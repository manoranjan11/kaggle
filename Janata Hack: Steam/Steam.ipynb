{
  "nbformat": 4,
  "nbformat_minor": 0,
  "metadata": {
    "colab": {
      "name": "Steam.ipynb",
      "provenance": [],
      "collapsed_sections": [],
      "machine_shape": "hm",
      "authorship_tag": "ABX9TyOwllYMTxLPU6g3pdp8DBbx",
      "include_colab_link": true
    },
    "kernelspec": {
      "name": "python3",
      "display_name": "Python 3"
    }
  },
  "cells": [
    {
      "cell_type": "markdown",
      "metadata": {
        "id": "view-in-github",
        "colab_type": "text"
      },
      "source": [
        "<a href=\"https://colab.research.google.com/github/manoranjan11/kaggle/blob/master/Janata%20Hack%3A%20Steam/Steam.ipynb\" target=\"_parent\"><img src=\"https://colab.research.google.com/assets/colab-badge.svg\" alt=\"Open In Colab\"/></a>"
      ]
    },
    {
      "cell_type": "code",
      "metadata": {
        "id": "oXsC2HEUEoxJ",
        "colab_type": "code",
        "colab": {
          "base_uri": "https://localhost:8080/",
          "height": 34
        },
        "outputId": "007bca11-e5de-4d3c-f6b2-8f7d34022a4c"
      },
      "source": [
        "#install required versions of libraries \n",
        "!pip3 install --quiet tensorflow-hub\n",
        "!pip3 install --quiet seaborn\n",
        "!pip3 install pyspellchecker"
      ],
      "execution_count": 1,
      "outputs": [
        {
          "output_type": "stream",
          "text": [
            "Requirement already satisfied: pyspellchecker in /usr/local/lib/python3.6/dist-packages (0.5.4)\n"
          ],
          "name": "stdout"
        }
      ]
    },
    {
      "cell_type": "code",
      "metadata": {
        "id": "-ymjTd6CIkhv",
        "colab_type": "code",
        "colab": {
          "base_uri": "https://localhost:8080/",
          "height": 89
        },
        "outputId": "8e84de23-8513-4dd2-afb1-f7a0dfbac353"
      },
      "source": [
        "#importing necessary libraries\n",
        "import pandas as pd\n",
        "import matplotlib.pyplot as plt\n",
        "import seaborn as sns\n",
        "import numpy as np\n",
        "\n",
        "from collections import defaultdict\n",
        "import nltk\n",
        "from nltk.corpus import stopwords\n",
        "\n",
        "from nltk.util import ngrams\n",
        "from collections import Counter\n",
        "\n",
        "from sklearn.feature_extraction.text import CountVectorizer\n",
        "\n",
        "import re\n",
        "from spellchecker import SpellChecker\n",
        "\n",
        "import tensorflow as tf\n",
        "import tensorflow_hub as hub\n",
        "\n",
        "from sklearn.model_selection import train_test_split\n",
        "import itertools\n",
        "import datetime\n",
        "from tensorflow.keras.preprocessing.sequence import pad_sequences\n",
        "from tensorflow.keras.models import Model\n",
        "from tensorflow.keras.layers import Input, Embedding, LSTM, Lambda, SpatialDropout1D, Dense\n",
        "import tensorflow.keras.backend as K\n",
        "from tensorflow.keras.optimizers import Adam,Adadelta\n",
        "from tensorflow.keras.callbacks import ModelCheckpoint\n",
        "from tensorflow.keras import layers\n",
        "\n",
        "\n",
        "from tqdm import tqdm\n",
        "from tensorflow.keras.models import Sequential\n",
        "from tensorflow.keras.initializers import Constant\n",
        "from keras.optimizers import Adadelta"
      ],
      "execution_count": 2,
      "outputs": [
        {
          "output_type": "stream",
          "text": [
            "/usr/local/lib/python3.6/dist-packages/statsmodels/tools/_testing.py:19: FutureWarning: pandas.util.testing is deprecated. Use the functions in the public API at pandas.testing instead.\n",
            "  import pandas.util.testing as tm\n",
            "Using TensorFlow backend.\n"
          ],
          "name": "stderr"
        }
      ]
    },
    {
      "cell_type": "code",
      "metadata": {
        "id": "8eRTltC2Inl2",
        "colab_type": "code",
        "colab": {
          "base_uri": "https://localhost:8080/",
          "height": 121
        },
        "outputId": "50ca0107-4cb2-40d7-8d41-977bc7d42903"
      },
      "source": [
        "#link to github repository\n",
        "!rm -r kaggle\n",
        "!git clone https://github.com/manoranjan11/kaggle.git"
      ],
      "execution_count": 3,
      "outputs": [
        {
          "output_type": "stream",
          "text": [
            "Cloning into 'kaggle'...\n",
            "remote: Enumerating objects: 24, done.\u001b[K\n",
            "remote: Counting objects: 100% (24/24), done.\u001b[K\n",
            "remote: Compressing objects: 100% (19/19), done.\u001b[K\n",
            "remote: Total 24 (delta 5), reused 0 (delta 0), pack-reused 0\u001b[K\n",
            "Unpacking objects: 100% (24/24), done.\n"
          ],
          "name": "stdout"
        }
      ]
    },
    {
      "cell_type": "code",
      "metadata": {
        "id": "u2nm6aSqIvQA",
        "colab_type": "code",
        "colab": {}
      },
      "source": [
        "# Importing the dataset\n",
        "train_dataset = pd.read_csv('/content/kaggle/Janata Hack: Steam/train.csv')\n",
        "test_dataset = pd.read_csv('/content/kaggle/Janata Hack: Steam/test.csv')"
      ],
      "execution_count": 0,
      "outputs": []
    },
    {
      "cell_type": "code",
      "metadata": {
        "id": "BTxPtmDsOiOo",
        "colab_type": "code",
        "colab": {
          "base_uri": "https://localhost:8080/",
          "height": 293
        },
        "outputId": "d5645a62-f758-4599-b8ef-d6faa65fce4a"
      },
      "source": [
        "train_dataset.head()"
      ],
      "execution_count": 5,
      "outputs": [
        {
          "output_type": "execute_result",
          "data": {
            "text/html": [
              "<div>\n",
              "<style scoped>\n",
              "    .dataframe tbody tr th:only-of-type {\n",
              "        vertical-align: middle;\n",
              "    }\n",
              "\n",
              "    .dataframe tbody tr th {\n",
              "        vertical-align: top;\n",
              "    }\n",
              "\n",
              "    .dataframe thead th {\n",
              "        text-align: right;\n",
              "    }\n",
              "</style>\n",
              "<table border=\"1\" class=\"dataframe\">\n",
              "  <thead>\n",
              "    <tr style=\"text-align: right;\">\n",
              "      <th></th>\n",
              "      <th>review_id</th>\n",
              "      <th>title</th>\n",
              "      <th>year</th>\n",
              "      <th>user_review</th>\n",
              "      <th>user_suggestion</th>\n",
              "    </tr>\n",
              "  </thead>\n",
              "  <tbody>\n",
              "    <tr>\n",
              "      <th>0</th>\n",
              "      <td>1</td>\n",
              "      <td>Spooky's Jump Scare Mansion</td>\n",
              "      <td>2016.0</td>\n",
              "      <td>I'm scared and hearing creepy voices.  So I'll...</td>\n",
              "      <td>1</td>\n",
              "    </tr>\n",
              "    <tr>\n",
              "      <th>1</th>\n",
              "      <td>2</td>\n",
              "      <td>Spooky's Jump Scare Mansion</td>\n",
              "      <td>2016.0</td>\n",
              "      <td>Best game, more better than Sam Pepper's YouTu...</td>\n",
              "      <td>1</td>\n",
              "    </tr>\n",
              "    <tr>\n",
              "      <th>2</th>\n",
              "      <td>3</td>\n",
              "      <td>Spooky's Jump Scare Mansion</td>\n",
              "      <td>2016.0</td>\n",
              "      <td>A littly iffy on the controls, but once you kn...</td>\n",
              "      <td>1</td>\n",
              "    </tr>\n",
              "    <tr>\n",
              "      <th>3</th>\n",
              "      <td>4</td>\n",
              "      <td>Spooky's Jump Scare Mansion</td>\n",
              "      <td>2015.0</td>\n",
              "      <td>Great game, fun and colorful and all that.A si...</td>\n",
              "      <td>1</td>\n",
              "    </tr>\n",
              "    <tr>\n",
              "      <th>4</th>\n",
              "      <td>5</td>\n",
              "      <td>Spooky's Jump Scare Mansion</td>\n",
              "      <td>2015.0</td>\n",
              "      <td>Not many games have the cute tag right next to...</td>\n",
              "      <td>1</td>\n",
              "    </tr>\n",
              "  </tbody>\n",
              "</table>\n",
              "</div>"
            ],
            "text/plain": [
              "   review_id  ... user_suggestion\n",
              "0          1  ...               1\n",
              "1          2  ...               1\n",
              "2          3  ...               1\n",
              "3          4  ...               1\n",
              "4          5  ...               1\n",
              "\n",
              "[5 rows x 5 columns]"
            ]
          },
          "metadata": {
            "tags": []
          },
          "execution_count": 5
        }
      ]
    },
    {
      "cell_type": "code",
      "metadata": {
        "id": "RV296kfnP3BX",
        "colab_type": "code",
        "colab": {
          "base_uri": "https://localhost:8080/",
          "height": 282
        },
        "outputId": "e5c58010-d588-4733-af2d-4b1182988a48"
      },
      "source": [
        "#class distribution\n",
        "x=train_dataset.user_suggestion.value_counts()\n",
        "sns.barplot(x.index,x)\n",
        "plt.gca().set_ylabel('samples')"
      ],
      "execution_count": 6,
      "outputs": [
        {
          "output_type": "execute_result",
          "data": {
            "text/plain": [
              "Text(0, 0.5, 'samples')"
            ]
          },
          "metadata": {
            "tags": []
          },
          "execution_count": 6
        },
        {
          "output_type": "display_data",
          "data": {
            "image/png": "[encoded data removed]",
            "text/plain": [
              "<Figure size 432x288 with 1 Axes>"
            ]
          },
          "metadata": {
            "tags": [],
            "needs_background": "light"
          }
        }
      ]
    },
    {
      "cell_type": "code",
      "metadata": {
        "id": "TEibG_rgP6ng",
        "colab_type": "code",
        "colab": {
          "base_uri": "https://localhost:8080/",
          "height": 356
        },
        "outputId": "a35ccf70-e8d7-4c35-9dd2-6204b9a5f3b0"
      },
      "source": [
        "#character analysis\n",
        "fig,(ax1,ax2)=plt.subplots(1,2,figsize=(10,5))\n",
        "tweet_len=train_dataset[train_dataset['user_suggestion']==1]['user_review'].str.len()\n",
        "ax1.hist(tweet_len,color='red')\n",
        "ax1.set_title('positive reviews')\n",
        "tweet_len=train_dataset[train_dataset['user_suggestion']==0]['user_review'].str.len()\n",
        "ax2.hist(tweet_len,color='green')\n",
        "ax2.set_title('negative reviews')\n",
        "fig.suptitle('Characters')\n",
        "plt.show()"
      ],
      "execution_count": 7,
      "outputs": [
        {
          "output_type": "display_data",
          "data": {
            "image/png": "[encoded data removed]",
            "text/plain": [
              "<Figure size 720x360 with 2 Axes>"
            ]
          },
          "metadata": {
            "tags": [],
            "needs_background": "light"
          }
        }
      ]
    },
    {
      "cell_type": "code",
      "metadata": {
        "id": "7wZMQssFRAJC",
        "colab_type": "code",
        "colab": {
          "base_uri": "https://localhost:8080/",
          "height": 356
        },
        "outputId": "3a258268-e086-4935-eb7c-e812afde4b01"
      },
      "source": [
        "#word analysis\n",
        "fig,(ax1,ax2)=plt.subplots(1,2,figsize=(10,5))\n",
        "tweet_len=train_dataset[train_dataset['user_suggestion']==1]['user_review'].str.split().map(lambda x: len(x))\n",
        "ax1.hist(tweet_len,color='red')\n",
        "ax1.set_title('positive reviews')\n",
        "tweet_len=train_dataset[train_dataset['user_suggestion']==0]['user_review'].str.split().map(lambda x: len(x))\n",
        "ax2.hist(tweet_len,color='green')\n",
        "ax2.set_title('negative reviews')\n",
        "fig.suptitle('Words')\n",
        "plt.show()"
      ],
      "execution_count": 8,
      "outputs": [
        {
          "output_type": "display_data",
          "data": {
            "image/png": "[encoded data removed]",
            "text/plain": [
              "<Figure size 720x360 with 2 Axes>"
            ]
          },
          "metadata": {
            "tags": [],
            "needs_background": "light"
          }
        }
      ]
    },
    {
      "cell_type": "code",
      "metadata": {
        "id": "ABOU6apySBuK",
        "colab_type": "code",
        "colab": {
          "base_uri": "https://localhost:8080/",
          "height": 388
        },
        "outputId": "62bc18f1-24e0-49d8-a46b-39b932fc49ee"
      },
      "source": [
        "#Average word length\n",
        "fig,(ax1,ax2)=plt.subplots(1,2,figsize=(10,5))\n",
        "word=train_dataset[train_dataset['user_suggestion']==1]['user_review'].str.split().apply(lambda x : [len(i) for i in x])\n",
        "sns.distplot(word.map(lambda x: np.mean(x)),ax=ax1,color='red')\n",
        "ax1.set_title('positive review')\n",
        "word=train_dataset[train_dataset['user_suggestion']==0]['user_review'].str.split().apply(lambda x : [len(i) for i in x])\n",
        "sns.distplot(word.map(lambda x: np.mean(x)),ax=ax2,color='green')\n",
        "ax2.set_title('negative review')\n",
        "fig.suptitle('Average word length in each review')"
      ],
      "execution_count": 9,
      "outputs": [
        {
          "output_type": "execute_result",
          "data": {
            "text/plain": [
              "Text(0.5, 0.98, 'Average word length in each review')"
            ]
          },
          "metadata": {
            "tags": []
          },
          "execution_count": 9
        },
        {
          "output_type": "display_data",
          "data": {
            "image/png": "[encoded data removed]",
            "text/plain": [
              "<Figure size 720x360 with 2 Axes>"
            ]
          },
          "metadata": {
            "tags": [],
            "needs_background": "light"
          }
        }
      ]
    },
    {
      "cell_type": "code",
      "metadata": {
        "id": "yYoEulMeSfBL",
        "colab_type": "code",
        "colab": {}
      },
      "source": [
        "#create corpus\n",
        "def create_corpus(target):\n",
        "    corpus=[]\n",
        "    \n",
        "    for x in train_dataset[train_dataset['user_suggestion']==target]['user_review'].str.split():\n",
        "        for i in x:\n",
        "            corpus.append(i)\n",
        "    return corpus"
      ],
      "execution_count": 0,
      "outputs": []
    },
    {
      "cell_type": "code",
      "metadata": {
        "id": "v9RUD4p-Tu4E",
        "colab_type": "code",
        "colab": {
          "base_uri": "https://localhost:8080/",
          "height": 69
        },
        "outputId": "e10733e7-f22c-4c34-c4c6-efb93e707178"
      },
      "source": [
        "nltk.download('stopwords')"
      ],
      "execution_count": 11,
      "outputs": [
        {
          "output_type": "stream",
          "text": [
            "[nltk_data] Downloading package stopwords to /root/nltk_data...\n",
            "[nltk_data]   Package stopwords is already up-to-date!\n"
          ],
          "name": "stdout"
        },
        {
          "output_type": "execute_result",
          "data": {
            "text/plain": [
              "True"
            ]
          },
          "metadata": {
            "tags": []
          },
          "execution_count": 11
        }
      ]
    },
    {
      "cell_type": "code",
      "metadata": {
        "id": "ytqekfQUTzr-",
        "colab_type": "code",
        "colab": {
          "base_uri": "https://localhost:8080/",
          "height": 282
        },
        "outputId": "be8c11cd-d45e-4773-8bf4-f4ac45055eff"
      },
      "source": [
        "#analyze target=0\n",
        "corpus=create_corpus(0)\n",
        "stop=set(stopwords.words('english'))\n",
        "dic=defaultdict(int)\n",
        "\n",
        "for word in corpus:\n",
        "    if word in stop:\n",
        "        dic[word]+=1\n",
        "        \n",
        "top=sorted(dic.items(), key=lambda x:x[1],reverse=True)[:10] \n",
        "\n",
        "x,y=zip(*top)\n",
        "plt.bar(x,y)"
      ],
      "execution_count": 12,
      "outputs": [
        {
          "output_type": "execute_result",
          "data": {
            "text/plain": [
              "<BarContainer object of 10 artists>"
            ]
          },
          "metadata": {
            "tags": []
          },
          "execution_count": 12
        },
        {
          "output_type": "display_data",
          "data": {
            "image/png": "[encoded data removed]",
            "text/plain": [
              "<Figure size 432x288 with 1 Axes>"
            ]
          },
          "metadata": {
            "tags": [],
            "needs_background": "light"
          }
        }
      ]
    },
    {
      "cell_type": "code",
      "metadata": {
        "id": "AkRTWiAFUQmf",
        "colab_type": "code",
        "colab": {
          "base_uri": "https://localhost:8080/",
          "height": 282
        },
        "outputId": "a685626f-cfb7-4be1-e1ec-ac76eed6cd45"
      },
      "source": [
        "#analyze target=1\n",
        "corpus=create_corpus(1)\n",
        "\n",
        "dic=defaultdict(int)\n",
        "for word in corpus:\n",
        "    if word in stop:\n",
        "        dic[word]+=1\n",
        "\n",
        "top=sorted(dic.items(), key=lambda x:x[1],reverse=True)[:10] \n",
        "    \n",
        "x,y=zip(*top)\n",
        "plt.bar(x,y)"
      ],
      "execution_count": 13,
      "outputs": [
        {
          "output_type": "execute_result",
          "data": {
            "text/plain": [
              "<BarContainer object of 10 artists>"
            ]
          },
          "metadata": {
            "tags": []
          },
          "execution_count": 13
        },
        {
          "output_type": "display_data",
          "data": {
            "image/png": "[encoded data removed]",
            "text/plain": [
              "<Figure size 432x288 with 1 Axes>"
            ]
          },
          "metadata": {
            "tags": [],
            "needs_background": "light"
          }
        }
      ]
    },
    {
      "cell_type": "code",
      "metadata": {
        "id": "zOSbX7oEUWRT",
        "colab_type": "code",
        "colab": {
          "base_uri": "https://localhost:8080/",
          "height": 337
        },
        "outputId": "a5b58d37-4aa6-4072-f570-34333d8564de"
      },
      "source": [
        "#analyze punctuations in target=1\n",
        "plt.figure(figsize=(10,5))\n",
        "corpus=create_corpus(1)\n",
        "\n",
        "dic=defaultdict(int)\n",
        "import string\n",
        "special = string.punctuation\n",
        "for i in (corpus):\n",
        "    if i in special:\n",
        "        dic[i]+=1\n",
        "        \n",
        "x,y=zip(*dic.items())\n",
        "plt.bar(x,y)"
      ],
      "execution_count": 14,
      "outputs": [
        {
          "output_type": "execute_result",
          "data": {
            "text/plain": [
              "<BarContainer object of 31 artists>"
            ]
          },
          "metadata": {
            "tags": []
          },
          "execution_count": 14
        },
        {
          "output_type": "display_data",
          "data": {
            "image/png": "[encoded data removed]",
            "text/plain": [
              "<Figure size 720x360 with 1 Axes>"
            ]
          },
          "metadata": {
            "tags": [],
            "needs_background": "light"
          }
        }
      ]
    },
    {
      "cell_type": "code",
      "metadata": {
        "id": "-pf_FDL8Uczs",
        "colab_type": "code",
        "colab": {
          "base_uri": "https://localhost:8080/",
          "height": 337
        },
        "outputId": "3366a38c-a66f-46a8-dc18-1ea1b765a571"
      },
      "source": [
        "#analyze punctuations in target=0\n",
        "plt.figure(figsize=(10,5))\n",
        "corpus=create_corpus(0)\n",
        "\n",
        "dic=defaultdict(int)\n",
        "import string\n",
        "special = string.punctuation\n",
        "for i in (corpus):\n",
        "    if i in special:\n",
        "        dic[i]+=1\n",
        "        \n",
        "x,y=zip(*dic.items())\n",
        "plt.bar(x,y,color='green')"
      ],
      "execution_count": 15,
      "outputs": [
        {
          "output_type": "execute_result",
          "data": {
            "text/plain": [
              "<BarContainer object of 31 artists>"
            ]
          },
          "metadata": {
            "tags": []
          },
          "execution_count": 15
        },
        {
          "output_type": "display_data",
          "data": {
            "image/png": "[encoded data removed]",
            "text/plain": [
              "<Figure size 720x360 with 1 Axes>"
            ]
          },
          "metadata": {
            "tags": [],
            "needs_background": "light"
          }
        }
      ]
    },
    {
      "cell_type": "code",
      "metadata": {
        "id": "_cTf8e-QUgvT",
        "colab_type": "code",
        "colab": {
          "base_uri": "https://localhost:8080/",
          "height": 282
        },
        "outputId": "188cf3ac-c3b6-4056-dd4d-328504a718fe"
      },
      "source": [
        "#Common Words\n",
        "counter=Counter(corpus)\n",
        "most=counter.most_common()\n",
        "x=[]\n",
        "y=[]\n",
        "for word,count in most[:40]:\n",
        "    if (word not in stop) :\n",
        "        x.append(word)\n",
        "        y.append(count)\n",
        "        \n",
        "sns.barplot(x=y,y=x)"
      ],
      "execution_count": 16,
      "outputs": [
        {
          "output_type": "execute_result",
          "data": {
            "text/plain": [
              "<matplotlib.axes._subplots.AxesSubplot at 0x7fd3155ce710>"
            ]
          },
          "metadata": {
            "tags": []
          },
          "execution_count": 16
        },
        {
          "output_type": "display_data",
          "data": {
            "image/png": "[encoded data removed]",
            "text/plain": [
              "<Figure size 432x288 with 1 Axes>"
            ]
          },
          "metadata": {
            "tags": [],
            "needs_background": "light"
          }
        }
      ]
    },
    {
      "cell_type": "code",
      "metadata": {
        "id": "o0ohTNFXUlVu",
        "colab_type": "code",
        "colab": {
          "base_uri": "https://localhost:8080/",
          "height": 337
        },
        "outputId": "5b02f667-c110-45c1-d920-655a5ce41341"
      },
      "source": [
        "#ngram analysis\n",
        "def get_top_tweet_bigrams(corpus, n=None):\n",
        "    vec = CountVectorizer(ngram_range=(2, 2)).fit(corpus)\n",
        "    bag_of_words = vec.transform(corpus)\n",
        "    sum_words = bag_of_words.sum(axis=0) \n",
        "    words_freq = [(word, sum_words[0, idx]) for word, idx in vec.vocabulary_.items()]\n",
        "    words_freq =sorted(words_freq, key = lambda x: x[1], reverse=True)\n",
        "    return words_freq[:n]\n",
        "\n",
        "plt.figure(figsize=(10,5))\n",
        "top_tweet_bigrams=get_top_tweet_bigrams(train_dataset['user_review'])[:10]\n",
        "x,y=map(list,zip(*top_tweet_bigrams))\n",
        "sns.barplot(x=y,y=x)"
      ],
      "execution_count": 17,
      "outputs": [
        {
          "output_type": "execute_result",
          "data": {
            "text/plain": [
              "<matplotlib.axes._subplots.AxesSubplot at 0x7fd30d183208>"
            ]
          },
          "metadata": {
            "tags": []
          },
          "execution_count": 17
        },
        {
          "output_type": "display_data",
          "data": {
            "image/png": "[encoded data removed]",
            "text/plain": [
              "<Figure size 720x360 with 1 Axes>"
            ]
          },
          "metadata": {
            "tags": [],
            "needs_background": "light"
          }
        }
      ]
    },
    {
      "cell_type": "code",
      "metadata": {
        "id": "5XY5HDfPVDTO",
        "colab_type": "code",
        "colab": {
          "base_uri": "https://localhost:8080/",
          "height": 139
        },
        "outputId": "6604bb6f-7fd1-4788-a119-61427289c149"
      },
      "source": [
        "#Data Cleaning\n",
        "#df=pd.concat([train_dataset,test_dataset])\n",
        "#df.shape\n",
        "\n",
        "example=\"New competition launched :https://www.kaggle.com/c/nlp-getting-started\"\n",
        "\n",
        "def remove_URL(text):\n",
        "    url = re.compile(r'https?://\\S+|www\\.\\S+')\n",
        "    return url.sub(r'',text)\n",
        "\n",
        "remove_URL(example)\n",
        "\n",
        "train_dataset['user_review']=train_dataset['user_review'].apply(lambda x : remove_URL(x))\n",
        "test_dataset['user_review']=test_dataset['user_review'].apply(lambda x : remove_URL(x))\n",
        "\n",
        "example = \"\"\"<div>\n",
        "<h1>Real or Fake</h1>\n",
        "<p>Kaggle </p>\n",
        "<a href=\"https://www.kaggle.com/c/nlp-getting-started\">getting started</a>\n",
        "</div>\"\"\"\n",
        "\n",
        "def remove_html(text):\n",
        "    html=re.compile(r'<.*?>')\n",
        "    return html.sub(r'',text)\n",
        "\n",
        "print(remove_html(example))\n",
        "\n",
        "train_dataset['user_review']=train_dataset['user_review'].apply(lambda x : remove_html(x))\n",
        "test_dataset['user_review']=test_dataset['user_review'].apply(lambda x : remove_html(x))\n",
        "\n",
        "def remove_emoji(text):\n",
        "    emoji_pattern = re.compile(\"[\"\n",
        "                           u\"\\U0001F600-\\U0001F64F\"  # emoticons\n",
        "                           u\"\\U0001F300-\\U0001F5FF\"  # symbols & pictographs\n",
        "                           u\"\\U0001F680-\\U0001F6FF\"  # transport & map symbols\n",
        "                           u\"\\U0001F1E0-\\U0001F1FF\"  # flags (iOS)\n",
        "                           u\"\\U00002702-\\U000027B0\"\n",
        "                           u\"\\U000024C2-\\U0001F251\"\n",
        "                           \"]+\", flags=re.UNICODE)\n",
        "    return emoji_pattern.sub(r'', text)\n",
        "\n",
        "remove_emoji(\"Omg another Earthquake 😔😔\")\n",
        "\n",
        "train_dataset['user_review']=train_dataset['user_review'].apply(lambda x : remove_emoji(x))\n",
        "test_dataset['user_review']=test_dataset['user_review'].apply(lambda x : remove_emoji(x))\n",
        "\n",
        "def remove_punct(text):\n",
        "    table=str.maketrans('','',string.punctuation)\n",
        "    return text.translate(table)\n",
        "\n",
        "example=\"I am a #king\"\n",
        "print(remove_punct(example))\n",
        "\n",
        "train_dataset['user_review']=train_dataset['user_review'].apply(lambda x : remove_punct(x))\n",
        "test_dataset['user_review']=test_dataset['user_review'].apply(lambda x : remove_punct(x))\n",
        "\n",
        "spell = SpellChecker()\n",
        "def correct_spellings(text):\n",
        "    corrected_text = []\n",
        "    misspelled_words = spell.unknown(text.split())\n",
        "    for word in text.split():\n",
        "        if word in misspelled_words:\n",
        "            corrected_text.append(spell.correction(word))\n",
        "        else:\n",
        "            corrected_text.append(word)\n",
        "    return \" \".join(corrected_text)\n",
        "        \n",
        "text = \"corect me plese\"\n",
        "correct_spellings(text)\n",
        "\n",
        "#train_dataset['text']=train_dataset['text'].apply(lambda x : correct_spellings(x))\n",
        "#test_dataset['text']=test_dataset['text'].apply(lambda x : correct_spellings(x))"
      ],
      "execution_count": 18,
      "outputs": [
        {
          "output_type": "stream",
          "text": [
            "\n",
            "Real or Fake\n",
            "Kaggle \n",
            "getting started\n",
            "\n",
            "I am a king\n"
          ],
          "name": "stdout"
        },
        {
          "output_type": "execute_result",
          "data": {
            "text/plain": [
              "'correct me please'"
            ]
          },
          "metadata": {
            "tags": []
          },
          "execution_count": 18
        }
      ]
    },
    {
      "cell_type": "code",
      "metadata": {
        "id": "L9q_KxxcWgYq",
        "colab_type": "code",
        "colab": {
          "base_uri": "https://localhost:8080/",
          "height": 206
        },
        "outputId": "0a8ad5f7-b62f-4941-da52-54fe75663f1a"
      },
      "source": [
        "test_dataset.head()"
      ],
      "execution_count": 19,
      "outputs": [
        {
          "output_type": "execute_result",
          "data": {
            "text/html": [
              "<div>\n",
              "<style scoped>\n",
              "    .dataframe tbody tr th:only-of-type {\n",
              "        vertical-align: middle;\n",
              "    }\n",
              "\n",
              "    .dataframe tbody tr th {\n",
              "        vertical-align: top;\n",
              "    }\n",
              "\n",
              "    .dataframe thead th {\n",
              "        text-align: right;\n",
              "    }\n",
              "</style>\n",
              "<table border=\"1\" class=\"dataframe\">\n",
              "  <thead>\n",
              "    <tr style=\"text-align: right;\">\n",
              "      <th></th>\n",
              "      <th>review_id</th>\n",
              "      <th>title</th>\n",
              "      <th>year</th>\n",
              "      <th>user_review</th>\n",
              "    </tr>\n",
              "  </thead>\n",
              "  <tbody>\n",
              "    <tr>\n",
              "      <th>0</th>\n",
              "      <td>1603</td>\n",
              "      <td>Counter-Strike: Global Offensive</td>\n",
              "      <td>2015.0</td>\n",
              "      <td>Nice graphics new maps weapons and models But ...</td>\n",
              "    </tr>\n",
              "    <tr>\n",
              "      <th>1</th>\n",
              "      <td>1604</td>\n",
              "      <td>Counter-Strike: Global Offensive</td>\n",
              "      <td>2018.0</td>\n",
              "      <td>I would not recommend getting into this at its...</td>\n",
              "    </tr>\n",
              "    <tr>\n",
              "      <th>2</th>\n",
              "      <td>1605</td>\n",
              "      <td>Counter-Strike: Global Offensive</td>\n",
              "      <td>2018.0</td>\n",
              "      <td>Edit 111218I have tried playing CSGO recently ...</td>\n",
              "    </tr>\n",
              "    <tr>\n",
              "      <th>3</th>\n",
              "      <td>1606</td>\n",
              "      <td>Counter-Strike: Global Offensive</td>\n",
              "      <td>2015.0</td>\n",
              "      <td>The game is great But the community is the wor...</td>\n",
              "    </tr>\n",
              "    <tr>\n",
              "      <th>4</th>\n",
              "      <td>1607</td>\n",
              "      <td>Counter-Strike: Global Offensive</td>\n",
              "      <td>2015.0</td>\n",
              "      <td>I thank TrulyRazor for buying this for me a lo...</td>\n",
              "    </tr>\n",
              "  </tbody>\n",
              "</table>\n",
              "</div>"
            ],
            "text/plain": [
              "   review_id  ...                                        user_review\n",
              "0       1603  ...  Nice graphics new maps weapons and models But ...\n",
              "1       1604  ...  I would not recommend getting into this at its...\n",
              "2       1605  ...  Edit 111218I have tried playing CSGO recently ...\n",
              "3       1606  ...  The game is great But the community is the wor...\n",
              "4       1607  ...  I thank TrulyRazor for buying this for me a lo...\n",
              "\n",
              "[5 rows x 4 columns]"
            ]
          },
          "metadata": {
            "tags": []
          },
          "execution_count": 19
        }
      ]
    },
    {
      "cell_type": "code",
      "metadata": {
        "id": "YuwivwJRWstO",
        "colab_type": "code",
        "colab": {}
      },
      "source": [
        "#test google encoder in TF2\n",
        "hub_url = \"https://tfhub.dev/google/universal-sentence-encoder-large/5\"\n",
        "embed = hub.load(hub_url)"
      ],
      "execution_count": 0,
      "outputs": []
    },
    {
      "cell_type": "code",
      "metadata": {
        "id": "QfwJwA7zWlQU",
        "colab_type": "code",
        "colab": {}
      },
      "source": [
        "X_train = train_dataset.iloc[:, 3].values\n",
        "y_train = train_dataset.iloc[:, 4].values"
      ],
      "execution_count": 0,
      "outputs": []
    },
    {
      "cell_type": "code",
      "metadata": {
        "id": "tyqRUsWHXEue",
        "colab_type": "code",
        "colab": {}
      },
      "source": [
        "#splitting into test & train\n",
        "#X_train, X_test, y_train, y_test = train_test_split(X, y, test_size = 0.2, random_state = 0)"
      ],
      "execution_count": 0,
      "outputs": []
    },
    {
      "cell_type": "code",
      "metadata": {
        "id": "sl24nnWwiz5-",
        "colab_type": "code",
        "colab": {}
      },
      "source": [
        "X_test = test_dataset.iloc[:, 3].values"
      ],
      "execution_count": 0,
      "outputs": []
    },
    {
      "cell_type": "code",
      "metadata": {
        "id": "4ff86f0Vsvjc",
        "colab_type": "code",
        "colab": {
          "base_uri": "https://localhost:8080/",
          "height": 34
        },
        "outputId": "0684b077-4c50-48f1-e7aa-d931d0316d71"
      },
      "source": [
        "len(X_test)"
      ],
      "execution_count": 24,
      "outputs": [
        {
          "output_type": "execute_result",
          "data": {
            "text/plain": [
              "8045"
            ]
          },
          "metadata": {
            "tags": []
          },
          "execution_count": 24
        }
      ]
    },
    {
      "cell_type": "code",
      "metadata": {
        "id": "rqoRxtGWaANQ",
        "colab_type": "code",
        "colab": {}
      },
      "source": [
        "X_train_embed = []"
      ],
      "execution_count": 0,
      "outputs": []
    },
    {
      "cell_type": "code",
      "metadata": {
        "id": "N9Wzr1vnZA6w",
        "colab_type": "code",
        "colab": {}
      },
      "source": [
        "for i in range(0,len(X_train)):\n",
        "  temp = embed([X_train[i]])\n",
        "  X_train_embed.append(temp)"
      ],
      "execution_count": 0,
      "outputs": []
    },
    {
      "cell_type": "code",
      "metadata": {
        "id": "21R0T5-OcNVw",
        "colab_type": "code",
        "colab": {}
      },
      "source": [
        "X_test_embed = []"
      ],
      "execution_count": 0,
      "outputs": []
    },
    {
      "cell_type": "code",
      "metadata": {
        "id": "vOlw_3qMagl_",
        "colab_type": "code",
        "colab": {}
      },
      "source": [
        "for i in range(0,len(X_test)):\n",
        "  temp = embed([X_test[i]])\n",
        "  X_test_embed.append(temp)"
      ],
      "execution_count": 0,
      "outputs": []
    },
    {
      "cell_type": "code",
      "metadata": {
        "id": "8ERbofQXcQTK",
        "colab_type": "code",
        "colab": {
          "base_uri": "https://localhost:8080/",
          "height": 34
        },
        "outputId": "51e6d910-d6f1-46b2-c6e7-8990f26d38fd"
      },
      "source": [
        "len(X_test_embed)"
      ],
      "execution_count": 29,
      "outputs": [
        {
          "output_type": "execute_result",
          "data": {
            "text/plain": [
              "8045"
            ]
          },
          "metadata": {
            "tags": []
          },
          "execution_count": 29
        }
      ]
    },
    {
      "cell_type": "code",
      "metadata": {
        "id": "M6Ici-SshVIh",
        "colab_type": "code",
        "colab": {}
      },
      "source": [
        "temp1 = y_train\n",
        "#temp2 = y_test"
      ],
      "execution_count": 0,
      "outputs": []
    },
    {
      "cell_type": "code",
      "metadata": {
        "id": "YTKmSXebh416",
        "colab_type": "code",
        "colab": {}
      },
      "source": [
        "temp1 = np.asarray(temp1)\n",
        "#temp2 = np.asarray(temp2)"
      ],
      "execution_count": 0,
      "outputs": []
    },
    {
      "cell_type": "code",
      "metadata": {
        "id": "jBjF_JWBiKJ9",
        "colab_type": "code",
        "colab": {}
      },
      "source": [
        "X_train_embed = np.asarray(X_train_embed)\n",
        "X_test_embed = np.asarray(X_test_embed)"
      ],
      "execution_count": 0,
      "outputs": []
    },
    {
      "cell_type": "code",
      "metadata": {
        "id": "Fkq5IqS2XNQw",
        "colab_type": "code",
        "colab": {}
      },
      "source": [
        "#Building a model\n",
        "model1 = Sequential()"
      ],
      "execution_count": 0,
      "outputs": []
    },
    {
      "cell_type": "code",
      "metadata": {
        "id": "yhKwapWdX2aW",
        "colab_type": "code",
        "colab": {}
      },
      "source": [
        "model1.add(Input(shape=(1,512), dtype='float32'))\n",
        "model1.add(SpatialDropout1D(0.2))\n",
        "model1.add(LSTM(64, dropout=0.2, recurrent_dropout=0.2))\n",
        "model1.add(Dense(1, activation='sigmoid'))\n",
        "\n",
        "optimzer=Adam(learning_rate=1e-5)\n",
        "\n",
        "model1.compile(loss='binary_crossentropy',optimizer=optimzer,metrics=['accuracy'])"
      ],
      "execution_count": 0,
      "outputs": []
    },
    {
      "cell_type": "code",
      "metadata": {
        "id": "NfWiqQRYd2m9",
        "colab_type": "code",
        "colab": {
          "base_uri": "https://localhost:8080/",
          "height": 260
        },
        "outputId": "e9981018-98b8-48bb-da9e-ab5c39d22791"
      },
      "source": [
        "model1.summary()"
      ],
      "execution_count": 46,
      "outputs": [
        {
          "output_type": "stream",
          "text": [
            "Model: \"sequential_1\"\n",
            "_________________________________________________________________\n",
            "Layer (type)                 Output Shape              Param #   \n",
            "=================================================================\n",
            "spatial_dropout1d_1 (Spatial (None, 1, 512)            0         \n",
            "_________________________________________________________________\n",
            "lstm_1 (LSTM)                (None, 64)                147712    \n",
            "_________________________________________________________________\n",
            "dense_1 (Dense)              (None, 1)                 65        \n",
            "=================================================================\n",
            "Total params: 147,777\n",
            "Trainable params: 147,777\n",
            "Non-trainable params: 0\n",
            "_________________________________________________________________\n"
          ],
          "name": "stdout"
        }
      ]
    },
    {
      "cell_type": "code",
      "metadata": {
        "id": "vANpcdZ3fLKo",
        "colab_type": "code",
        "colab": {}
      },
      "source": [
        "from time import time\n",
        "import datetime\n",
        "n_epoch = 100"
      ],
      "execution_count": 0,
      "outputs": []
    },
    {
      "cell_type": "code",
      "metadata": {
        "id": "spT9uZH6d89J",
        "colab_type": "code",
        "colab": {
          "base_uri": "https://localhost:8080/",
          "height": 1000
        },
        "outputId": "77705777-bc61-4e10-8297-88c92a5bb4b7"
      },
      "source": [
        "training_start_time = time()\n",
        "\n",
        "trained = model1.fit(X_train_embed, temp1, batch_size=64, epochs=n_epoch)\n",
        "\n",
        "print(\"Training time finished.\\n{} epochs in {}\".format(n_epoch, datetime.timedelta(seconds=time()-training_start_time)))"
      ],
      "execution_count": 47,
      "outputs": [
        {
          "output_type": "stream",
          "text": [
            "Epoch 1/100\n",
            "274/274 [==============================] - 1s 4ms/step - loss: 0.6909 - accuracy: 0.5691\n",
            "Epoch 2/100\n",
            "274/274 [==============================] - 1s 4ms/step - loss: 0.6868 - accuracy: 0.5939\n",
            "Epoch 3/100\n",
            "274/274 [==============================] - 1s 4ms/step - loss: 0.6827 - accuracy: 0.5799\n",
            "Epoch 4/100\n",
            "274/274 [==============================] - 1s 4ms/step - loss: 0.6787 - accuracy: 0.5767\n",
            "Epoch 5/100\n",
            "274/274 [==============================] - 1s 4ms/step - loss: 0.6745 - accuracy: 0.5756\n",
            "Epoch 6/100\n",
            "274/274 [==============================] - 1s 4ms/step - loss: 0.6704 - accuracy: 0.5763\n",
            "Epoch 7/100\n",
            "274/274 [==============================] - 1s 4ms/step - loss: 0.6659 - accuracy: 0.5777\n",
            "Epoch 8/100\n",
            "274/274 [==============================] - 1s 4ms/step - loss: 0.6614 - accuracy: 0.5796\n",
            "Epoch 9/100\n",
            "274/274 [==============================] - 1s 4ms/step - loss: 0.6574 - accuracy: 0.5819\n",
            "Epoch 10/100\n",
            "274/274 [==============================] - 1s 4ms/step - loss: 0.6526 - accuracy: 0.5873\n",
            "Epoch 11/100\n",
            "274/274 [==============================] - 1s 4ms/step - loss: 0.6485 - accuracy: 0.5920\n",
            "Epoch 12/100\n",
            "274/274 [==============================] - 1s 4ms/step - loss: 0.6434 - accuracy: 0.5988\n",
            "Epoch 13/100\n",
            "274/274 [==============================] - 1s 4ms/step - loss: 0.6386 - accuracy: 0.6100\n",
            "Epoch 14/100\n",
            "274/274 [==============================] - 1s 4ms/step - loss: 0.6338 - accuracy: 0.6164\n",
            "Epoch 15/100\n",
            "274/274 [==============================] - 1s 4ms/step - loss: 0.6293 - accuracy: 0.6270\n",
            "Epoch 16/100\n",
            "274/274 [==============================] - 1s 4ms/step - loss: 0.6242 - accuracy: 0.6414\n",
            "Epoch 17/100\n",
            "274/274 [==============================] - 1s 4ms/step - loss: 0.6187 - accuracy: 0.6541\n",
            "Epoch 18/100\n",
            "274/274 [==============================] - 1s 4ms/step - loss: 0.6137 - accuracy: 0.6676\n",
            "Epoch 19/100\n",
            "274/274 [==============================] - 1s 4ms/step - loss: 0.6085 - accuracy: 0.6798\n",
            "Epoch 20/100\n",
            "274/274 [==============================] - 1s 4ms/step - loss: 0.6027 - accuracy: 0.6945\n",
            "Epoch 21/100\n",
            "274/274 [==============================] - 1s 4ms/step - loss: 0.5970 - accuracy: 0.7007\n",
            "Epoch 22/100\n",
            "274/274 [==============================] - 1s 4ms/step - loss: 0.5922 - accuracy: 0.7162\n",
            "Epoch 23/100\n",
            "274/274 [==============================] - 1s 4ms/step - loss: 0.5859 - accuracy: 0.7249\n",
            "Epoch 24/100\n",
            "274/274 [==============================] - 1s 4ms/step - loss: 0.5803 - accuracy: 0.7325\n",
            "Epoch 25/100\n",
            "274/274 [==============================] - 1s 4ms/step - loss: 0.5751 - accuracy: 0.7420\n",
            "Epoch 26/100\n",
            "274/274 [==============================] - 1s 4ms/step - loss: 0.5685 - accuracy: 0.7497\n",
            "Epoch 27/100\n",
            "274/274 [==============================] - 1s 4ms/step - loss: 0.5631 - accuracy: 0.7565\n",
            "Epoch 28/100\n",
            "274/274 [==============================] - 1s 4ms/step - loss: 0.5578 - accuracy: 0.7605\n",
            "Epoch 29/100\n",
            "274/274 [==============================] - 1s 4ms/step - loss: 0.5522 - accuracy: 0.7632\n",
            "Epoch 30/100\n",
            "274/274 [==============================] - 1s 4ms/step - loss: 0.5457 - accuracy: 0.7707\n",
            "Epoch 31/100\n",
            "274/274 [==============================] - 1s 4ms/step - loss: 0.5405 - accuracy: 0.7748\n",
            "Epoch 32/100\n",
            "274/274 [==============================] - 1s 4ms/step - loss: 0.5364 - accuracy: 0.7758\n",
            "Epoch 33/100\n",
            "274/274 [==============================] - 1s 4ms/step - loss: 0.5313 - accuracy: 0.7770\n",
            "Epoch 34/100\n",
            "274/274 [==============================] - 1s 4ms/step - loss: 0.5251 - accuracy: 0.7810\n",
            "Epoch 35/100\n",
            "274/274 [==============================] - 1s 4ms/step - loss: 0.5211 - accuracy: 0.7814\n",
            "Epoch 36/100\n",
            "274/274 [==============================] - 1s 4ms/step - loss: 0.5161 - accuracy: 0.7841\n",
            "Epoch 37/100\n",
            "274/274 [==============================] - 1s 4ms/step - loss: 0.5087 - accuracy: 0.7884\n",
            "Epoch 38/100\n",
            "274/274 [==============================] - 1s 4ms/step - loss: 0.5068 - accuracy: 0.7840\n",
            "Epoch 39/100\n",
            "274/274 [==============================] - 1s 4ms/step - loss: 0.5013 - accuracy: 0.7894\n",
            "Epoch 40/100\n",
            "274/274 [==============================] - 1s 4ms/step - loss: 0.4973 - accuracy: 0.7894\n",
            "Epoch 41/100\n",
            "274/274 [==============================] - 1s 4ms/step - loss: 0.4917 - accuracy: 0.7898\n",
            "Epoch 42/100\n",
            "274/274 [==============================] - 1s 4ms/step - loss: 0.4898 - accuracy: 0.7909\n",
            "Epoch 43/100\n",
            "274/274 [==============================] - 1s 4ms/step - loss: 0.4839 - accuracy: 0.7931\n",
            "Epoch 44/100\n",
            "274/274 [==============================] - 1s 4ms/step - loss: 0.4814 - accuracy: 0.7942\n",
            "Epoch 45/100\n",
            "274/274 [==============================] - 1s 4ms/step - loss: 0.4768 - accuracy: 0.7934\n",
            "Epoch 46/100\n",
            "274/274 [==============================] - 1s 4ms/step - loss: 0.4727 - accuracy: 0.7952\n",
            "Epoch 47/100\n",
            "274/274 [==============================] - 1s 4ms/step - loss: 0.4692 - accuracy: 0.7968\n",
            "Epoch 48/100\n",
            "274/274 [==============================] - 1s 4ms/step - loss: 0.4653 - accuracy: 0.7957\n",
            "Epoch 49/100\n",
            "274/274 [==============================] - 1s 4ms/step - loss: 0.4624 - accuracy: 0.7955\n",
            "Epoch 50/100\n",
            "274/274 [==============================] - 1s 4ms/step - loss: 0.4609 - accuracy: 0.7968\n",
            "Epoch 51/100\n",
            "274/274 [==============================] - 1s 4ms/step - loss: 0.4563 - accuracy: 0.7997\n",
            "Epoch 52/100\n",
            "274/274 [==============================] - 1s 4ms/step - loss: 0.4546 - accuracy: 0.8030\n",
            "Epoch 53/100\n",
            "274/274 [==============================] - 1s 4ms/step - loss: 0.4535 - accuracy: 0.7968\n",
            "Epoch 54/100\n",
            "274/274 [==============================] - 1s 5ms/step - loss: 0.4494 - accuracy: 0.8003\n",
            "Epoch 55/100\n",
            "274/274 [==============================] - 1s 5ms/step - loss: 0.4477 - accuracy: 0.8018\n",
            "Epoch 56/100\n",
            "274/274 [==============================] - 1s 5ms/step - loss: 0.4451 - accuracy: 0.7999\n",
            "Epoch 57/100\n",
            "274/274 [==============================] - 1s 5ms/step - loss: 0.4423 - accuracy: 0.8022\n",
            "Epoch 58/100\n",
            "274/274 [==============================] - 1s 4ms/step - loss: 0.4388 - accuracy: 0.8041\n",
            "Epoch 59/100\n",
            "274/274 [==============================] - 1s 4ms/step - loss: 0.4389 - accuracy: 0.8012\n",
            "Epoch 60/100\n",
            "274/274 [==============================] - 1s 4ms/step - loss: 0.4363 - accuracy: 0.8038\n",
            "Epoch 61/100\n",
            "274/274 [==============================] - 1s 4ms/step - loss: 0.4338 - accuracy: 0.8039\n",
            "Epoch 62/100\n",
            "274/274 [==============================] - 1s 4ms/step - loss: 0.4311 - accuracy: 0.8082\n",
            "Epoch 63/100\n",
            "274/274 [==============================] - 1s 4ms/step - loss: 0.4294 - accuracy: 0.8052\n",
            "Epoch 64/100\n",
            "274/274 [==============================] - 1s 4ms/step - loss: 0.4285 - accuracy: 0.8041\n",
            "Epoch 65/100\n",
            "274/274 [==============================] - 1s 4ms/step - loss: 0.4267 - accuracy: 0.8081\n",
            "Epoch 66/100\n",
            "274/274 [==============================] - 1s 4ms/step - loss: 0.4242 - accuracy: 0.8103\n",
            "Epoch 67/100\n",
            "274/274 [==============================] - 1s 4ms/step - loss: 0.4228 - accuracy: 0.8069\n",
            "Epoch 68/100\n",
            "274/274 [==============================] - 1s 4ms/step - loss: 0.4221 - accuracy: 0.8088\n",
            "Epoch 69/100\n",
            "274/274 [==============================] - 1s 4ms/step - loss: 0.4213 - accuracy: 0.8082\n",
            "Epoch 70/100\n",
            "274/274 [==============================] - 1s 4ms/step - loss: 0.4202 - accuracy: 0.8084\n",
            "Epoch 71/100\n",
            "274/274 [==============================] - 1s 4ms/step - loss: 0.4178 - accuracy: 0.8099\n",
            "Epoch 72/100\n",
            "274/274 [==============================] - 1s 4ms/step - loss: 0.4142 - accuracy: 0.8114\n",
            "Epoch 73/100\n",
            "274/274 [==============================] - 1s 4ms/step - loss: 0.4167 - accuracy: 0.8108\n",
            "Epoch 74/100\n",
            "274/274 [==============================] - 1s 4ms/step - loss: 0.4135 - accuracy: 0.8131\n",
            "Epoch 75/100\n",
            "274/274 [==============================] - 1s 4ms/step - loss: 0.4127 - accuracy: 0.8089\n",
            "Epoch 76/100\n",
            "274/274 [==============================] - 1s 4ms/step - loss: 0.4112 - accuracy: 0.8139\n",
            "Epoch 77/100\n",
            "274/274 [==============================] - 1s 4ms/step - loss: 0.4088 - accuracy: 0.8149\n",
            "Epoch 78/100\n",
            "274/274 [==============================] - 1s 4ms/step - loss: 0.4079 - accuracy: 0.8118\n",
            "Epoch 79/100\n",
            "274/274 [==============================] - 1s 4ms/step - loss: 0.4070 - accuracy: 0.8156\n",
            "Epoch 80/100\n",
            "274/274 [==============================] - 1s 4ms/step - loss: 0.4085 - accuracy: 0.8117\n",
            "Epoch 81/100\n",
            "274/274 [==============================] - 1s 4ms/step - loss: 0.4089 - accuracy: 0.8112\n",
            "Epoch 82/100\n",
            "274/274 [==============================] - 1s 4ms/step - loss: 0.4059 - accuracy: 0.8130\n",
            "Epoch 83/100\n",
            "274/274 [==============================] - 1s 4ms/step - loss: 0.4040 - accuracy: 0.8159\n",
            "Epoch 84/100\n",
            "274/274 [==============================] - 1s 4ms/step - loss: 0.4058 - accuracy: 0.8124\n",
            "Epoch 85/100\n",
            "274/274 [==============================] - 1s 4ms/step - loss: 0.4074 - accuracy: 0.8150\n",
            "Epoch 86/100\n",
            "274/274 [==============================] - 1s 4ms/step - loss: 0.4055 - accuracy: 0.8154\n",
            "Epoch 87/100\n",
            "274/274 [==============================] - 1s 4ms/step - loss: 0.4034 - accuracy: 0.8171\n",
            "Epoch 88/100\n",
            "274/274 [==============================] - 1s 4ms/step - loss: 0.4033 - accuracy: 0.8147\n",
            "Epoch 89/100\n",
            "274/274 [==============================] - 1s 4ms/step - loss: 0.4031 - accuracy: 0.8175\n",
            "Epoch 90/100\n",
            "274/274 [==============================] - 1s 4ms/step - loss: 0.3996 - accuracy: 0.8170\n",
            "Epoch 91/100\n",
            "274/274 [==============================] - 1s 4ms/step - loss: 0.4005 - accuracy: 0.8174\n",
            "Epoch 92/100\n",
            "274/274 [==============================] - 1s 4ms/step - loss: 0.4003 - accuracy: 0.8162\n",
            "Epoch 93/100\n",
            "274/274 [==============================] - 1s 4ms/step - loss: 0.3953 - accuracy: 0.8183\n",
            "Epoch 94/100\n",
            "274/274 [==============================] - 1s 4ms/step - loss: 0.3968 - accuracy: 0.8188\n",
            "Epoch 95/100\n",
            "274/274 [==============================] - 1s 4ms/step - loss: 0.4007 - accuracy: 0.8174\n",
            "Epoch 96/100\n",
            "274/274 [==============================] - 1s 4ms/step - loss: 0.3940 - accuracy: 0.8230\n",
            "Epoch 97/100\n",
            "274/274 [==============================] - 1s 4ms/step - loss: 0.3960 - accuracy: 0.8171\n",
            "Epoch 98/100\n",
            "274/274 [==============================] - 1s 4ms/step - loss: 0.3949 - accuracy: 0.8194\n",
            "Epoch 99/100\n",
            "274/274 [==============================] - 1s 4ms/step - loss: 0.3965 - accuracy: 0.8176\n",
            "Epoch 100/100\n",
            "274/274 [==============================] - 1s 4ms/step - loss: 0.3963 - accuracy: 0.8193\n",
            "Training time finished.\n",
            "100 epochs in 0:01:58.894955\n"
          ],
          "name": "stdout"
        }
      ]
    },
    {
      "cell_type": "code",
      "metadata": {
        "id": "_nHKZRvUCceT",
        "colab_type": "code",
        "colab": {}
      },
      "source": [
        "model2 = Sequential()"
      ],
      "execution_count": 0,
      "outputs": []
    },
    {
      "cell_type": "code",
      "metadata": {
        "id": "Z_OlLMH3EpCZ",
        "colab_type": "code",
        "colab": {}
      },
      "source": [
        "model2.add(Input(shape=(1,512), dtype='float32'))\n",
        "model2.add(SpatialDropout1D(0.2))\n",
        "model2.add(LSTM(64, dropout=0.2, recurrent_dropout=0.2))\n",
        "model2.add(Dense(1, activation='sigmoid'))\n",
        "\n",
        "optimzer=tf.keras.optimizers.SGD(learning_rate=1.5,momentum = 0.25)\n",
        "\n",
        "model2.compile(loss='binary_crossentropy',optimizer=optimzer,metrics=['accuracy'])"
      ],
      "execution_count": 0,
      "outputs": []
    },
    {
      "cell_type": "code",
      "metadata": {
        "id": "LQwJpr-fFfqp",
        "colab_type": "code",
        "colab": {
          "base_uri": "https://localhost:8080/",
          "height": 260
        },
        "outputId": "00c73485-c9f5-4fd5-8098-934e442df59c"
      },
      "source": [
        "model2.summary()"
      ],
      "execution_count": 87,
      "outputs": [
        {
          "output_type": "stream",
          "text": [
            "Model: \"sequential_9\"\n",
            "_________________________________________________________________\n",
            "Layer (type)                 Output Shape              Param #   \n",
            "=================================================================\n",
            "spatial_dropout1d_10 (Spatia (None, 1, 512)            0         \n",
            "_________________________________________________________________\n",
            "lstm_9 (LSTM)                (None, 64)                147712    \n",
            "_________________________________________________________________\n",
            "dense_12 (Dense)             (None, 1)                 65        \n",
            "=================================================================\n",
            "Total params: 147,777\n",
            "Trainable params: 147,777\n",
            "Non-trainable params: 0\n",
            "_________________________________________________________________\n"
          ],
          "name": "stdout"
        }
      ]
    },
    {
      "cell_type": "code",
      "metadata": {
        "id": "eb0xN0zcFlAJ",
        "colab_type": "code",
        "colab": {
          "base_uri": "https://localhost:8080/",
          "height": 1000
        },
        "outputId": "2f7de9ad-da2a-4afd-b60a-1d115923c19e"
      },
      "source": [
        "training_start_time = time()\n",
        "\n",
        "trained = model2.fit(X_train_embed, temp1, batch_size=64, epochs=n_epoch,validation_split=0.2)\n",
        "\n",
        "print(\"Training time finished.\\n{} epochs in {}\".format(n_epoch, datetime.timedelta(seconds=time()-training_start_time)))"
      ],
      "execution_count": 90,
      "outputs": [
        {
          "output_type": "stream",
          "text": [
            "Epoch 1/150\n",
            "219/219 [==============================] - 1s 5ms/step - loss: 0.2977 - accuracy: 0.8685 - val_loss: 0.4887 - val_accuracy: 0.7788\n",
            "Epoch 2/150\n",
            "219/219 [==============================] - 1s 5ms/step - loss: 0.2999 - accuracy: 0.8695 - val_loss: 0.4198 - val_accuracy: 0.8122\n",
            "Epoch 3/150\n",
            "219/219 [==============================] - 1s 5ms/step - loss: 0.2995 - accuracy: 0.8696 - val_loss: 0.4942 - val_accuracy: 0.7768\n",
            "Epoch 4/150\n",
            "219/219 [==============================] - 1s 5ms/step - loss: 0.2974 - accuracy: 0.8705 - val_loss: 0.4202 - val_accuracy: 0.8068\n",
            "Epoch 5/150\n",
            "219/219 [==============================] - 1s 5ms/step - loss: 0.2980 - accuracy: 0.8705 - val_loss: 0.4903 - val_accuracy: 0.7745\n",
            "Epoch 6/150\n",
            "219/219 [==============================] - 1s 5ms/step - loss: 0.2933 - accuracy: 0.8739 - val_loss: 0.4138 - val_accuracy: 0.8102\n",
            "Epoch 7/150\n",
            "219/219 [==============================] - 1s 5ms/step - loss: 0.2915 - accuracy: 0.8737 - val_loss: 0.4452 - val_accuracy: 0.7934\n",
            "Epoch 8/150\n",
            "219/219 [==============================] - 1s 5ms/step - loss: 0.2982 - accuracy: 0.8688 - val_loss: 0.4065 - val_accuracy: 0.8159\n",
            "Epoch 9/150\n",
            "219/219 [==============================] - 1s 5ms/step - loss: 0.2973 - accuracy: 0.8687 - val_loss: 0.4403 - val_accuracy: 0.7971\n",
            "Epoch 10/150\n",
            "219/219 [==============================] - 1s 5ms/step - loss: 0.2919 - accuracy: 0.8729 - val_loss: 0.4104 - val_accuracy: 0.8117\n",
            "Epoch 11/150\n",
            "219/219 [==============================] - 1s 5ms/step - loss: 0.2891 - accuracy: 0.8735 - val_loss: 0.4398 - val_accuracy: 0.8008\n",
            "Epoch 12/150\n",
            "219/219 [==============================] - 1s 5ms/step - loss: 0.2946 - accuracy: 0.8702 - val_loss: 0.4621 - val_accuracy: 0.7834\n",
            "Epoch 13/150\n",
            "219/219 [==============================] - 1s 5ms/step - loss: 0.2910 - accuracy: 0.8737 - val_loss: 0.4683 - val_accuracy: 0.7891\n",
            "Epoch 14/150\n",
            "219/219 [==============================] - 1s 5ms/step - loss: 0.2911 - accuracy: 0.8735 - val_loss: 0.4225 - val_accuracy: 0.8051\n",
            "Epoch 15/150\n",
            "219/219 [==============================] - 1s 5ms/step - loss: 0.2864 - accuracy: 0.8749 - val_loss: 0.4470 - val_accuracy: 0.7954\n",
            "Epoch 16/150\n",
            "219/219 [==============================] - 1s 5ms/step - loss: 0.2876 - accuracy: 0.8752 - val_loss: 0.4228 - val_accuracy: 0.8068\n",
            "Epoch 17/150\n",
            "219/219 [==============================] - 1s 5ms/step - loss: 0.2879 - accuracy: 0.8772 - val_loss: 0.4184 - val_accuracy: 0.8091\n",
            "Epoch 18/150\n",
            "219/219 [==============================] - 1s 5ms/step - loss: 0.2874 - accuracy: 0.8772 - val_loss: 0.4610 - val_accuracy: 0.7882\n",
            "Epoch 19/150\n",
            "219/219 [==============================] - 1s 5ms/step - loss: 0.2850 - accuracy: 0.8775 - val_loss: 0.4310 - val_accuracy: 0.8059\n",
            "Epoch 20/150\n",
            "219/219 [==============================] - 1s 5ms/step - loss: 0.2868 - accuracy: 0.8760 - val_loss: 0.4217 - val_accuracy: 0.8079\n",
            "Epoch 21/150\n",
            "219/219 [==============================] - 1s 5ms/step - loss: 0.2855 - accuracy: 0.8756 - val_loss: 0.4385 - val_accuracy: 0.8014\n",
            "Epoch 22/150\n",
            "219/219 [==============================] - 1s 5ms/step - loss: 0.2864 - accuracy: 0.8770 - val_loss: 0.4557 - val_accuracy: 0.7905\n",
            "Epoch 23/150\n",
            "219/219 [==============================] - 1s 5ms/step - loss: 0.2847 - accuracy: 0.8779 - val_loss: 0.4462 - val_accuracy: 0.7985\n",
            "Epoch 24/150\n",
            "219/219 [==============================] - 1s 5ms/step - loss: 0.2785 - accuracy: 0.8810 - val_loss: 0.4146 - val_accuracy: 0.8091\n",
            "Epoch 25/150\n",
            "219/219 [==============================] - 1s 5ms/step - loss: 0.2812 - accuracy: 0.8789 - val_loss: 0.4103 - val_accuracy: 0.8097\n",
            "Epoch 26/150\n",
            "219/219 [==============================] - 1s 5ms/step - loss: 0.2824 - accuracy: 0.8749 - val_loss: 0.4645 - val_accuracy: 0.7851\n",
            "Epoch 27/150\n",
            "219/219 [==============================] - 1s 5ms/step - loss: 0.2784 - accuracy: 0.8775 - val_loss: 0.4809 - val_accuracy: 0.7805\n",
            "Epoch 28/150\n",
            "219/219 [==============================] - 1s 5ms/step - loss: 0.2825 - accuracy: 0.8760 - val_loss: 0.4240 - val_accuracy: 0.8062\n",
            "Epoch 29/150\n",
            "219/219 [==============================] - 1s 5ms/step - loss: 0.2787 - accuracy: 0.8757 - val_loss: 0.4462 - val_accuracy: 0.7928\n",
            "Epoch 30/150\n",
            "219/219 [==============================] - 1s 5ms/step - loss: 0.2772 - accuracy: 0.8772 - val_loss: 0.4167 - val_accuracy: 0.8097\n",
            "Epoch 31/150\n",
            "219/219 [==============================] - 1s 5ms/step - loss: 0.2751 - accuracy: 0.8777 - val_loss: 0.3963 - val_accuracy: 0.8234\n",
            "Epoch 32/150\n",
            "219/219 [==============================] - 1s 5ms/step - loss: 0.2784 - accuracy: 0.8792 - val_loss: 0.4747 - val_accuracy: 0.7885\n",
            "Epoch 33/150\n",
            "219/219 [==============================] - 1s 5ms/step - loss: 0.2785 - accuracy: 0.8792 - val_loss: 0.4156 - val_accuracy: 0.8122\n",
            "Epoch 34/150\n",
            "219/219 [==============================] - 1s 5ms/step - loss: 0.2766 - accuracy: 0.8807 - val_loss: 0.4584 - val_accuracy: 0.7905\n",
            "Epoch 35/150\n",
            "219/219 [==============================] - 1s 5ms/step - loss: 0.2742 - accuracy: 0.8802 - val_loss: 0.4388 - val_accuracy: 0.7974\n",
            "Epoch 36/150\n",
            "219/219 [==============================] - 1s 5ms/step - loss: 0.2789 - accuracy: 0.8774 - val_loss: 0.4130 - val_accuracy: 0.8191\n",
            "Epoch 37/150\n",
            "219/219 [==============================] - 1s 5ms/step - loss: 0.2741 - accuracy: 0.8808 - val_loss: 0.4129 - val_accuracy: 0.8165\n",
            "Epoch 38/150\n",
            "219/219 [==============================] - 1s 5ms/step - loss: 0.2750 - accuracy: 0.8785 - val_loss: 0.4117 - val_accuracy: 0.8157\n",
            "Epoch 39/150\n",
            "219/219 [==============================] - 1s 5ms/step - loss: 0.2755 - accuracy: 0.8779 - val_loss: 0.3897 - val_accuracy: 0.8277\n",
            "Epoch 40/150\n",
            "219/219 [==============================] - 1s 5ms/step - loss: 0.2700 - accuracy: 0.8835 - val_loss: 0.4153 - val_accuracy: 0.8154\n",
            "Epoch 41/150\n",
            "219/219 [==============================] - 1s 5ms/step - loss: 0.2755 - accuracy: 0.8787 - val_loss: 0.4807 - val_accuracy: 0.7805\n",
            "Epoch 42/150\n",
            "219/219 [==============================] - 1s 5ms/step - loss: 0.2721 - accuracy: 0.8817 - val_loss: 0.4360 - val_accuracy: 0.8037\n",
            "Epoch 43/150\n",
            "219/219 [==============================] - 1s 5ms/step - loss: 0.2724 - accuracy: 0.8841 - val_loss: 0.4321 - val_accuracy: 0.8082\n",
            "Epoch 44/150\n",
            "219/219 [==============================] - 1s 5ms/step - loss: 0.2661 - accuracy: 0.8865 - val_loss: 0.4344 - val_accuracy: 0.7999\n",
            "Epoch 45/150\n",
            "219/219 [==============================] - 1s 5ms/step - loss: 0.2647 - accuracy: 0.8872 - val_loss: 0.4332 - val_accuracy: 0.8037\n",
            "Epoch 46/150\n",
            "219/219 [==============================] - 1s 5ms/step - loss: 0.2707 - accuracy: 0.8816 - val_loss: 0.4159 - val_accuracy: 0.8151\n",
            "Epoch 47/150\n",
            "219/219 [==============================] - 1s 5ms/step - loss: 0.2696 - accuracy: 0.8846 - val_loss: 0.4197 - val_accuracy: 0.8114\n",
            "Epoch 48/150\n",
            "219/219 [==============================] - 1s 5ms/step - loss: 0.2698 - accuracy: 0.8812 - val_loss: 0.4801 - val_accuracy: 0.7808\n",
            "Epoch 49/150\n",
            "219/219 [==============================] - 1s 5ms/step - loss: 0.2656 - accuracy: 0.8870 - val_loss: 0.4529 - val_accuracy: 0.7945\n",
            "Epoch 50/150\n",
            "219/219 [==============================] - 1s 5ms/step - loss: 0.2701 - accuracy: 0.8820 - val_loss: 0.4469 - val_accuracy: 0.7994\n",
            "Epoch 51/150\n",
            "219/219 [==============================] - 1s 5ms/step - loss: 0.2698 - accuracy: 0.8792 - val_loss: 0.4382 - val_accuracy: 0.8059\n",
            "Epoch 52/150\n",
            "219/219 [==============================] - 1s 5ms/step - loss: 0.2705 - accuracy: 0.8822 - val_loss: 0.4184 - val_accuracy: 0.8117\n",
            "Epoch 53/150\n",
            "219/219 [==============================] - 1s 5ms/step - loss: 0.2665 - accuracy: 0.8825 - val_loss: 0.4566 - val_accuracy: 0.7945\n",
            "Epoch 54/150\n",
            "219/219 [==============================] - 1s 5ms/step - loss: 0.2620 - accuracy: 0.8855 - val_loss: 0.4404 - val_accuracy: 0.8031\n",
            "Epoch 55/150\n",
            "219/219 [==============================] - 1s 5ms/step - loss: 0.2652 - accuracy: 0.8848 - val_loss: 0.4781 - val_accuracy: 0.7808\n",
            "Epoch 56/150\n",
            "219/219 [==============================] - 1s 5ms/step - loss: 0.2662 - accuracy: 0.8859 - val_loss: 0.5453 - val_accuracy: 0.7596\n",
            "Epoch 57/150\n",
            "219/219 [==============================] - 1s 5ms/step - loss: 0.2641 - accuracy: 0.8864 - val_loss: 0.4432 - val_accuracy: 0.8079\n",
            "Epoch 58/150\n",
            "219/219 [==============================] - 1s 5ms/step - loss: 0.2624 - accuracy: 0.8843 - val_loss: 0.4217 - val_accuracy: 0.8119\n",
            "Epoch 59/150\n",
            "219/219 [==============================] - 1s 6ms/step - loss: 0.2610 - accuracy: 0.8879 - val_loss: 0.4368 - val_accuracy: 0.8008\n",
            "Epoch 60/150\n",
            "219/219 [==============================] - 1s 6ms/step - loss: 0.2621 - accuracy: 0.8857 - val_loss: 0.5061 - val_accuracy: 0.7734\n",
            "Epoch 61/150\n",
            "219/219 [==============================] - 1s 6ms/step - loss: 0.2644 - accuracy: 0.8851 - val_loss: 0.4282 - val_accuracy: 0.8102\n",
            "Epoch 62/150\n",
            "219/219 [==============================] - 1s 6ms/step - loss: 0.2615 - accuracy: 0.8865 - val_loss: 0.4741 - val_accuracy: 0.7822\n",
            "Epoch 63/150\n",
            "219/219 [==============================] - 1s 6ms/step - loss: 0.2620 - accuracy: 0.8890 - val_loss: 0.4956 - val_accuracy: 0.7751\n",
            "Epoch 64/150\n",
            "219/219 [==============================] - 1s 6ms/step - loss: 0.2561 - accuracy: 0.8870 - val_loss: 0.4591 - val_accuracy: 0.7968\n",
            "Epoch 65/150\n",
            "219/219 [==============================] - 1s 6ms/step - loss: 0.2554 - accuracy: 0.8917 - val_loss: 0.4367 - val_accuracy: 0.8031\n",
            "Epoch 66/150\n",
            "219/219 [==============================] - 1s 6ms/step - loss: 0.2632 - accuracy: 0.8844 - val_loss: 0.4225 - val_accuracy: 0.8125\n",
            "Epoch 67/150\n",
            "219/219 [==============================] - 1s 6ms/step - loss: 0.2542 - accuracy: 0.8914 - val_loss: 0.4398 - val_accuracy: 0.8019\n",
            "Epoch 68/150\n",
            "219/219 [==============================] - 1s 6ms/step - loss: 0.2545 - accuracy: 0.8895 - val_loss: 0.4447 - val_accuracy: 0.8037\n",
            "Epoch 69/150\n",
            "219/219 [==============================] - 1s 6ms/step - loss: 0.2553 - accuracy: 0.8878 - val_loss: 0.4363 - val_accuracy: 0.8137\n",
            "Epoch 70/150\n",
            "219/219 [==============================] - 1s 6ms/step - loss: 0.2576 - accuracy: 0.8884 - val_loss: 0.4394 - val_accuracy: 0.8131\n",
            "Epoch 71/150\n",
            "219/219 [==============================] - 1s 6ms/step - loss: 0.2522 - accuracy: 0.8907 - val_loss: 0.4880 - val_accuracy: 0.7797\n",
            "Epoch 72/150\n",
            "219/219 [==============================] - 1s 6ms/step - loss: 0.2486 - accuracy: 0.8921 - val_loss: 0.4337 - val_accuracy: 0.8094\n",
            "Epoch 73/150\n",
            "219/219 [==============================] - 1s 5ms/step - loss: 0.2496 - accuracy: 0.8943 - val_loss: 0.4434 - val_accuracy: 0.8114\n",
            "Epoch 74/150\n",
            "219/219 [==============================] - 1s 5ms/step - loss: 0.2560 - accuracy: 0.8885 - val_loss: 0.4418 - val_accuracy: 0.8077\n",
            "Epoch 75/150\n",
            "219/219 [==============================] - 1s 5ms/step - loss: 0.2534 - accuracy: 0.8899 - val_loss: 0.4284 - val_accuracy: 0.8091\n",
            "Epoch 76/150\n",
            "219/219 [==============================] - 1s 5ms/step - loss: 0.2577 - accuracy: 0.8878 - val_loss: 0.4347 - val_accuracy: 0.8077\n",
            "Epoch 77/150\n",
            "219/219 [==============================] - 1s 5ms/step - loss: 0.2510 - accuracy: 0.8904 - val_loss: 0.4399 - val_accuracy: 0.8037\n",
            "Epoch 78/150\n",
            "219/219 [==============================] - 1s 5ms/step - loss: 0.2518 - accuracy: 0.8895 - val_loss: 0.4489 - val_accuracy: 0.8017\n",
            "Epoch 79/150\n",
            "219/219 [==============================] - 1s 5ms/step - loss: 0.2514 - accuracy: 0.8908 - val_loss: 0.4865 - val_accuracy: 0.7831\n",
            "Epoch 80/150\n",
            "219/219 [==============================] - 1s 5ms/step - loss: 0.2570 - accuracy: 0.8877 - val_loss: 0.4358 - val_accuracy: 0.8057\n",
            "Epoch 81/150\n",
            "219/219 [==============================] - 1s 5ms/step - loss: 0.2529 - accuracy: 0.8905 - val_loss: 0.4427 - val_accuracy: 0.8051\n",
            "Epoch 82/150\n",
            "219/219 [==============================] - 1s 5ms/step - loss: 0.2490 - accuracy: 0.8922 - val_loss: 0.5014 - val_accuracy: 0.7757\n",
            "Epoch 83/150\n",
            "219/219 [==============================] - 1s 5ms/step - loss: 0.2489 - accuracy: 0.8945 - val_loss: 0.4761 - val_accuracy: 0.7911\n",
            "Epoch 84/150\n",
            "219/219 [==============================] - 1s 5ms/step - loss: 0.2472 - accuracy: 0.8926 - val_loss: 0.4504 - val_accuracy: 0.8042\n",
            "Epoch 85/150\n",
            "219/219 [==============================] - 1s 5ms/step - loss: 0.2468 - accuracy: 0.8920 - val_loss: 0.4279 - val_accuracy: 0.8142\n",
            "Epoch 86/150\n",
            "219/219 [==============================] - 1s 5ms/step - loss: 0.2456 - accuracy: 0.8930 - val_loss: 0.4522 - val_accuracy: 0.8005\n",
            "Epoch 87/150\n",
            "219/219 [==============================] - 1s 5ms/step - loss: 0.2448 - accuracy: 0.8962 - val_loss: 0.4638 - val_accuracy: 0.8002\n",
            "Epoch 88/150\n",
            "219/219 [==============================] - 1s 5ms/step - loss: 0.2437 - accuracy: 0.8949 - val_loss: 0.4289 - val_accuracy: 0.8151\n",
            "Epoch 89/150\n",
            "219/219 [==============================] - 1s 5ms/step - loss: 0.2436 - accuracy: 0.8963 - val_loss: 0.4208 - val_accuracy: 0.8199\n",
            "Epoch 90/150\n",
            "219/219 [==============================] - 1s 5ms/step - loss: 0.2460 - accuracy: 0.8926 - val_loss: 0.4537 - val_accuracy: 0.8005\n",
            "Epoch 91/150\n",
            "219/219 [==============================] - 1s 5ms/step - loss: 0.2463 - accuracy: 0.8936 - val_loss: 0.4202 - val_accuracy: 0.8171\n",
            "Epoch 92/150\n",
            "219/219 [==============================] - 1s 5ms/step - loss: 0.2412 - accuracy: 0.8939 - val_loss: 0.4835 - val_accuracy: 0.7885\n",
            "Epoch 93/150\n",
            "219/219 [==============================] - 1s 5ms/step - loss: 0.2429 - accuracy: 0.8950 - val_loss: 0.4613 - val_accuracy: 0.7999\n",
            "Epoch 94/150\n",
            "219/219 [==============================] - 1s 5ms/step - loss: 0.2358 - accuracy: 0.8980 - val_loss: 0.4313 - val_accuracy: 0.8117\n",
            "Epoch 95/150\n",
            "219/219 [==============================] - 1s 5ms/step - loss: 0.2424 - accuracy: 0.8973 - val_loss: 0.4959 - val_accuracy: 0.7871\n",
            "Epoch 96/150\n",
            "219/219 [==============================] - 1s 5ms/step - loss: 0.2403 - accuracy: 0.8970 - val_loss: 0.4358 - val_accuracy: 0.8134\n",
            "Epoch 97/150\n",
            "219/219 [==============================] - 1s 5ms/step - loss: 0.2405 - accuracy: 0.8985 - val_loss: 0.4560 - val_accuracy: 0.8048\n",
            "Epoch 98/150\n",
            "219/219 [==============================] - 1s 5ms/step - loss: 0.2387 - accuracy: 0.8957 - val_loss: 0.4663 - val_accuracy: 0.8059\n",
            "Epoch 99/150\n",
            "219/219 [==============================] - 1s 5ms/step - loss: 0.2386 - accuracy: 0.8972 - val_loss: 0.4992 - val_accuracy: 0.7834\n",
            "Epoch 100/150\n",
            "219/219 [==============================] - 1s 5ms/step - loss: 0.2410 - accuracy: 0.8955 - val_loss: 0.4240 - val_accuracy: 0.8208\n",
            "Epoch 101/150\n",
            "219/219 [==============================] - 1s 5ms/step - loss: 0.2356 - accuracy: 0.8995 - val_loss: 0.4663 - val_accuracy: 0.7971\n",
            "Epoch 102/150\n",
            "219/219 [==============================] - 1s 5ms/step - loss: 0.2418 - accuracy: 0.8932 - val_loss: 0.4429 - val_accuracy: 0.8159\n",
            "Epoch 103/150\n",
            "219/219 [==============================] - 1s 5ms/step - loss: 0.2353 - accuracy: 0.9005 - val_loss: 0.4617 - val_accuracy: 0.8025\n",
            "Epoch 104/150\n",
            "219/219 [==============================] - 1s 5ms/step - loss: 0.2354 - accuracy: 0.8991 - val_loss: 0.4479 - val_accuracy: 0.8105\n",
            "Epoch 105/150\n",
            "219/219 [==============================] - 1s 5ms/step - loss: 0.2336 - accuracy: 0.8986 - val_loss: 0.4280 - val_accuracy: 0.8145\n",
            "Epoch 106/150\n",
            "219/219 [==============================] - 1s 5ms/step - loss: 0.2374 - accuracy: 0.8977 - val_loss: 0.5620 - val_accuracy: 0.7668\n",
            "Epoch 107/150\n",
            "219/219 [==============================] - 1s 5ms/step - loss: 0.2317 - accuracy: 0.9011 - val_loss: 0.4574 - val_accuracy: 0.8105\n",
            "Epoch 108/150\n",
            "219/219 [==============================] - 1s 5ms/step - loss: 0.2351 - accuracy: 0.9010 - val_loss: 0.4514 - val_accuracy: 0.8057\n",
            "Epoch 109/150\n",
            "219/219 [==============================] - 1s 5ms/step - loss: 0.2327 - accuracy: 0.9008 - val_loss: 0.4426 - val_accuracy: 0.8082\n",
            "Epoch 110/150\n",
            "219/219 [==============================] - 1s 5ms/step - loss: 0.2340 - accuracy: 0.8987 - val_loss: 0.4872 - val_accuracy: 0.7979\n",
            "Epoch 111/150\n",
            "219/219 [==============================] - 1s 5ms/step - loss: 0.2358 - accuracy: 0.8990 - val_loss: 0.4507 - val_accuracy: 0.8111\n",
            "Epoch 112/150\n",
            "219/219 [==============================] - 1s 5ms/step - loss: 0.2278 - accuracy: 0.9005 - val_loss: 0.4384 - val_accuracy: 0.8108\n",
            "Epoch 113/150\n",
            "219/219 [==============================] - 1s 5ms/step - loss: 0.2275 - accuracy: 0.9018 - val_loss: 0.4789 - val_accuracy: 0.7999\n",
            "Epoch 114/150\n",
            "219/219 [==============================] - 1s 5ms/step - loss: 0.2312 - accuracy: 0.9011 - val_loss: 0.4761 - val_accuracy: 0.8111\n",
            "Epoch 115/150\n",
            "219/219 [==============================] - 1s 5ms/step - loss: 0.2288 - accuracy: 0.9023 - val_loss: 0.4798 - val_accuracy: 0.7959\n",
            "Epoch 116/150\n",
            "219/219 [==============================] - 1s 5ms/step - loss: 0.2286 - accuracy: 0.9011 - val_loss: 0.4673 - val_accuracy: 0.8005\n",
            "Epoch 117/150\n",
            "219/219 [==============================] - 1s 5ms/step - loss: 0.2259 - accuracy: 0.9054 - val_loss: 0.4507 - val_accuracy: 0.8085\n",
            "Epoch 118/150\n",
            "219/219 [==============================] - 1s 5ms/step - loss: 0.2269 - accuracy: 0.9037 - val_loss: 0.4520 - val_accuracy: 0.8099\n",
            "Epoch 119/150\n",
            "219/219 [==============================] - 1s 5ms/step - loss: 0.2262 - accuracy: 0.9032 - val_loss: 0.4410 - val_accuracy: 0.8154\n",
            "Epoch 120/150\n",
            "219/219 [==============================] - 1s 5ms/step - loss: 0.2329 - accuracy: 0.8983 - val_loss: 0.4941 - val_accuracy: 0.7934\n",
            "Epoch 121/150\n",
            "219/219 [==============================] - 1s 5ms/step - loss: 0.2252 - accuracy: 0.9034 - val_loss: 0.4540 - val_accuracy: 0.8102\n",
            "Epoch 122/150\n",
            "219/219 [==============================] - 1s 5ms/step - loss: 0.2232 - accuracy: 0.9041 - val_loss: 0.4837 - val_accuracy: 0.7962\n",
            "Epoch 123/150\n",
            "219/219 [==============================] - 1s 5ms/step - loss: 0.2307 - accuracy: 0.9023 - val_loss: 0.4395 - val_accuracy: 0.8179\n",
            "Epoch 124/150\n",
            "219/219 [==============================] - 1s 5ms/step - loss: 0.2299 - accuracy: 0.9001 - val_loss: 0.4296 - val_accuracy: 0.8165\n",
            "Epoch 125/150\n",
            "219/219 [==============================] - 1s 5ms/step - loss: 0.2279 - accuracy: 0.9009 - val_loss: 0.4772 - val_accuracy: 0.7965\n",
            "Epoch 126/150\n",
            "219/219 [==============================] - 1s 5ms/step - loss: 0.2290 - accuracy: 0.9042 - val_loss: 0.4548 - val_accuracy: 0.8088\n",
            "Epoch 127/150\n",
            "219/219 [==============================] - 1s 5ms/step - loss: 0.2274 - accuracy: 0.8997 - val_loss: 0.4505 - val_accuracy: 0.8108\n",
            "Epoch 128/150\n",
            "219/219 [==============================] - 1s 5ms/step - loss: 0.2288 - accuracy: 0.9010 - val_loss: 0.4873 - val_accuracy: 0.7982\n",
            "Epoch 129/150\n",
            "219/219 [==============================] - 1s 5ms/step - loss: 0.2251 - accuracy: 0.9044 - val_loss: 0.5218 - val_accuracy: 0.7765\n",
            "Epoch 130/150\n",
            "219/219 [==============================] - 1s 5ms/step - loss: 0.2228 - accuracy: 0.9059 - val_loss: 0.5388 - val_accuracy: 0.7839\n",
            "Epoch 131/150\n",
            "219/219 [==============================] - 1s 5ms/step - loss: 0.2227 - accuracy: 0.9035 - val_loss: 0.4484 - val_accuracy: 0.8068\n",
            "Epoch 132/150\n",
            "219/219 [==============================] - 1s 5ms/step - loss: 0.2183 - accuracy: 0.9080 - val_loss: 0.4982 - val_accuracy: 0.7894\n",
            "Epoch 133/150\n",
            "219/219 [==============================] - 1s 5ms/step - loss: 0.2170 - accuracy: 0.9042 - val_loss: 0.4617 - val_accuracy: 0.8122\n",
            "Epoch 134/150\n",
            "219/219 [==============================] - 1s 5ms/step - loss: 0.2254 - accuracy: 0.9049 - val_loss: 0.4928 - val_accuracy: 0.7968\n",
            "Epoch 135/150\n",
            "219/219 [==============================] - 1s 5ms/step - loss: 0.2176 - accuracy: 0.9076 - val_loss: 0.4580 - val_accuracy: 0.8082\n",
            "Epoch 136/150\n",
            "219/219 [==============================] - 1s 5ms/step - loss: 0.2177 - accuracy: 0.9074 - val_loss: 0.5579 - val_accuracy: 0.7702\n",
            "Epoch 137/150\n",
            "219/219 [==============================] - 1s 5ms/step - loss: 0.2182 - accuracy: 0.9075 - val_loss: 0.4712 - val_accuracy: 0.8051\n",
            "Epoch 138/150\n",
            "219/219 [==============================] - 1s 5ms/step - loss: 0.2156 - accuracy: 0.9071 - val_loss: 0.4976 - val_accuracy: 0.8008\n",
            "Epoch 139/150\n",
            "219/219 [==============================] - 1s 5ms/step - loss: 0.2180 - accuracy: 0.9072 - val_loss: 0.4742 - val_accuracy: 0.8005\n",
            "Epoch 140/150\n",
            "219/219 [==============================] - 1s 5ms/step - loss: 0.2186 - accuracy: 0.9081 - val_loss: 0.5614 - val_accuracy: 0.7659\n",
            "Epoch 141/150\n",
            "219/219 [==============================] - 1s 5ms/step - loss: 0.2188 - accuracy: 0.9039 - val_loss: 0.4827 - val_accuracy: 0.8037\n",
            "Epoch 142/150\n",
            "219/219 [==============================] - 1s 5ms/step - loss: 0.2186 - accuracy: 0.9069 - val_loss: 0.4961 - val_accuracy: 0.7988\n",
            "Epoch 143/150\n",
            "219/219 [==============================] - 1s 5ms/step - loss: 0.2148 - accuracy: 0.9100 - val_loss: 0.4909 - val_accuracy: 0.7985\n",
            "Epoch 144/150\n",
            "219/219 [==============================] - 1s 5ms/step - loss: 0.2196 - accuracy: 0.9068 - val_loss: 0.4733 - val_accuracy: 0.8082\n",
            "Epoch 145/150\n",
            "219/219 [==============================] - 1s 5ms/step - loss: 0.2168 - accuracy: 0.9070 - val_loss: 0.4809 - val_accuracy: 0.8099\n",
            "Epoch 146/150\n",
            "219/219 [==============================] - 1s 5ms/step - loss: 0.2108 - accuracy: 0.9117 - val_loss: 0.5395 - val_accuracy: 0.7736\n",
            "Epoch 147/150\n",
            "219/219 [==============================] - 1s 5ms/step - loss: 0.2078 - accuracy: 0.9116 - val_loss: 0.4873 - val_accuracy: 0.7977\n",
            "Epoch 148/150\n",
            "219/219 [==============================] - 1s 5ms/step - loss: 0.2186 - accuracy: 0.9063 - val_loss: 0.5017 - val_accuracy: 0.7931\n",
            "Epoch 149/150\n",
            "219/219 [==============================] - 1s 5ms/step - loss: 0.2131 - accuracy: 0.9110 - val_loss: 0.4876 - val_accuracy: 0.7994\n",
            "Epoch 150/150\n",
            "219/219 [==============================] - 1s 5ms/step - loss: 0.2154 - accuracy: 0.9074 - val_loss: 0.5342 - val_accuracy: 0.7882\n",
            "Training time finished.\n",
            "150 epochs in 0:02:43.741921\n"
          ],
          "name": "stdout"
        }
      ]
    },
    {
      "cell_type": "code",
      "metadata": {
        "id": "vWA7pf9W3vH_",
        "colab_type": "code",
        "colab": {}
      },
      "source": [
        "y_pred = model2.predict(X_test_embed)"
      ],
      "execution_count": 0,
      "outputs": []
    },
    {
      "cell_type": "code",
      "metadata": {
        "id": "OnmdOS3x56gg",
        "colab_type": "code",
        "colab": {
          "base_uri": "https://localhost:8080/",
          "height": 34
        },
        "outputId": "b519dea5-a5b7-4f9c-ad60-06af6f3de8ed"
      },
      "source": [
        "len(y_pred)"
      ],
      "execution_count": 49,
      "outputs": [
        {
          "output_type": "execute_result",
          "data": {
            "text/plain": [
              "8045"
            ]
          },
          "metadata": {
            "tags": []
          },
          "execution_count": 49
        }
      ]
    },
    {
      "cell_type": "code",
      "metadata": {
        "id": "hgm9Bw_H6ALq",
        "colab_type": "code",
        "colab": {}
      },
      "source": [
        "from sklearn.metrics import f1_score\n"
      ],
      "execution_count": 0,
      "outputs": []
    },
    {
      "cell_type": "code",
      "metadata": {
        "id": "PfcJHr996S2d",
        "colab_type": "code",
        "colab": {}
      },
      "source": [
        "for i in range(0,len(y_pred)):\n",
        "  if y_pred[i]>=0.5:\n",
        "    y_pred[i] = 1\n",
        "  else:\n",
        "    y_pred[i] = 0"
      ],
      "execution_count": 0,
      "outputs": []
    },
    {
      "cell_type": "code",
      "metadata": {
        "id": "Wit2L8AuGKlX",
        "colab_type": "code",
        "colab": {
          "base_uri": "https://localhost:8080/",
          "height": 139
        },
        "outputId": "1eb3d04c-e450-4868-b30c-6b1f57b9b313"
      },
      "source": [
        "y_pred"
      ],
      "execution_count": 42,
      "outputs": [
        {
          "output_type": "execute_result",
          "data": {
            "text/plain": [
              "array([[1.],\n",
              "       [0.],\n",
              "       [0.],\n",
              "       ...,\n",
              "       [0.],\n",
              "       [1.],\n",
              "       [1.]], dtype=float32)"
            ]
          },
          "metadata": {
            "tags": []
          },
          "execution_count": 42
        }
      ]
    },
    {
      "cell_type": "code",
      "metadata": {
        "id": "1K5g_KBRxZeX",
        "colab_type": "code",
        "colab": {}
      },
      "source": [
        "np.savetxt(fname=\"y_pred.csv\", delimiter=\",\", X=y_pred)"
      ],
      "execution_count": 0,
      "outputs": []
    },
    {
      "cell_type": "code",
      "metadata": {
        "id": "FFIzF1Qi6Lkd",
        "colab_type": "code",
        "colab": {
          "base_uri": "https://localhost:8080/",
          "height": 34
        },
        "outputId": "bf4b35e0-c9e5-4b25-fbb7-4fc12d2d21b4"
      },
      "source": [
        "f1_score(temp2,y_pred)"
      ],
      "execution_count": 69,
      "outputs": [
        {
          "output_type": "execute_result",
          "data": {
            "text/plain": [
              "0.8793144489407283"
            ]
          },
          "metadata": {
            "tags": []
          },
          "execution_count": 69
        }
      ]
    }
  ]
}