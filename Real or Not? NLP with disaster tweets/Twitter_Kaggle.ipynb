{
  "nbformat": 4,
  "nbformat_minor": 0,
  "metadata": {
    "colab": {
      "name": "Twitter Kaggle.ipynb",
      "provenance": [],
      "collapsed_sections": [],
      "authorship_tag": "ABX9TyOmID/qMcIB0Hk/LUTifNXG",
      "include_colab_link": true
    },
    "kernelspec": {
      "name": "python3",
      "display_name": "Python 3"
    },
    "accelerator": "GPU"
  },
  "cells": [
    {
      "cell_type": "markdown",
      "metadata": {
        "id": "view-in-github",
        "colab_type": "text"
      },
      "source": [
        "<a href=\"https://colab.research.google.com/github/manoranjan11/kaggle/blob/master/Real%20or%20Not%3F%20NLP%20with%20disaster%20tweets/Twitter_Kaggle.ipynb\" target=\"_parent\"><img src=\"https://colab.research.google.com/assets/colab-badge.svg\" alt=\"Open In Colab\"/></a>"
      ]
    },
    {
      "cell_type": "code",
      "metadata": {
        "id": "vBo2vjVQ7oU_",
        "colab_type": "code",
        "outputId": "f346300c-83a0-47ba-ef4f-6a7ffe606185",
        "colab": {
          "base_uri": "https://localhost:8080/",
          "height": 34
        }
      },
      "source": [
        "#install required versions of libraries \n",
        "!pip3 install --quiet tensorflow-hub\n",
        "!pip3 install --quiet seaborn\n",
        "!pip3 install pyspellchecker"
      ],
      "execution_count": 1,
      "outputs": [
        {
          "output_type": "stream",
          "text": [
            "Requirement already satisfied: pyspellchecker in /usr/local/lib/python3.6/dist-packages (0.5.4)\n"
          ],
          "name": "stdout"
        }
      ]
    },
    {
      "cell_type": "code",
      "metadata": {
        "id": "h061lpfj1vaq",
        "colab_type": "code",
        "colab": {
          "base_uri": "https://localhost:8080/",
          "height": 89
        },
        "outputId": "9c3a7afd-7c6c-4b89-bc89-b8980610d1eb"
      },
      "source": [
        "#importing necessary libraries\n",
        "import pandas as pd\n",
        "import matplotlib.pyplot as plt\n",
        "import seaborn as sns\n",
        "import numpy as np\n",
        "\n",
        "from collections import defaultdict\n",
        "import nltk\n",
        "from nltk.corpus import stopwords\n",
        "\n",
        "from nltk.util import ngrams\n",
        "from collections import Counter\n",
        "\n",
        "from sklearn.feature_extraction.text import CountVectorizer\n",
        "\n",
        "import re\n",
        "from spellchecker import SpellChecker\n",
        "\n",
        "import tensorflow as tf\n",
        "import tensorflow_hub as hub\n",
        "\n",
        "from sklearn.model_selection import train_test_split\n",
        "import itertools\n",
        "import datetime\n",
        "from tensorflow.keras.preprocessing.sequence import pad_sequences\n",
        "from tensorflow.keras.models import Model\n",
        "from tensorflow.keras.layers import Input, Embedding, LSTM, Lambda, SpatialDropout1D, Dense\n",
        "import tensorflow.keras.backend as K\n",
        "from tensorflow.keras.optimizers import Adam\n",
        "from tensorflow.keras.callbacks import ModelCheckpoint\n",
        "from tensorflow.keras import layers\n",
        "\n",
        "\n",
        "from tqdm import tqdm\n",
        "from tensorflow.keras.models import Sequential\n",
        "from tensorflow.keras.initializers import Constant\n",
        "from keras.optimizers import Adadelta"
      ],
      "execution_count": 2,
      "outputs": [
        {
          "output_type": "stream",
          "text": [
            "/usr/local/lib/python3.6/dist-packages/statsmodels/tools/_testing.py:19: FutureWarning: pandas.util.testing is deprecated. Use the functions in the public API at pandas.testing instead.\n",
            "  import pandas.util.testing as tm\n",
            "Using TensorFlow backend.\n"
          ],
          "name": "stderr"
        }
      ]
    },
    {
      "cell_type": "code",
      "metadata": {
        "id": "wdazLeB-9-Nb",
        "colab_type": "code",
        "outputId": "e19974a4-ce0d-4757-894e-933dff63857e",
        "colab": {
          "base_uri": "https://localhost:8080/",
          "height": 121
        }
      },
      "source": [
        "#link to github repository\n",
        "!rm -r kaggle\n",
        "!git clone https://github.com/manoranjan11/kaggle.git"
      ],
      "execution_count": 3,
      "outputs": [
        {
          "output_type": "stream",
          "text": [
            "Cloning into 'kaggle'...\n",
            "remote: Enumerating objects: 51, done.\u001b[K\n",
            "remote: Counting objects:   1% (1/51)\u001b[K\rremote: Counting objects:   3% (2/51)\u001b[K\rremote: Counting objects:   5% (3/51)\u001b[K\rremote: Counting objects:   7% (4/51)\u001b[K\rremote: Counting objects:   9% (5/51)\u001b[K\rremote: Counting objects:  11% (6/51)\u001b[K\rremote: Counting objects:  13% (7/51)\u001b[K\rremote: Counting objects:  15% (8/51)\u001b[K\rremote: Counting objects:  17% (9/51)\u001b[K\rremote: Counting objects:  19% (10/51)\u001b[K\rremote: Counting objects:  21% (11/51)\u001b[K\rremote: Counting objects:  23% (12/51)\u001b[K\rremote: Counting objects:  25% (13/51)\u001b[K\rremote: Counting objects:  27% (14/51)\u001b[K\rremote: Counting objects:  29% (15/51)\u001b[K\rremote: Counting objects:  31% (16/51)\u001b[K\rremote: Counting objects:  33% (17/51)\u001b[K\rremote: Counting objects:  35% (18/51)\u001b[K\rremote: Counting objects:  37% (19/51)\u001b[K\rremote: Counting objects:  39% (20/51)\u001b[K\rremote: Counting objects:  41% (21/51)\u001b[K\rremote: Counting objects:  43% (22/51)\u001b[K\rremote: Counting objects:  45% (23/51)\u001b[K\rremote: Counting objects:  47% (24/51)\u001b[K\rremote: Counting objects:  49% (25/51)\u001b[K\rremote: Counting objects:  50% (26/51)\u001b[K\rremote: Counting objects:  52% (27/51)\u001b[K\rremote: Counting objects:  54% (28/51)\u001b[K\rremote: Counting objects:  56% (29/51)\u001b[K\rremote: Counting objects:  58% (30/51)\u001b[K\rremote: Counting objects:  60% (31/51)\u001b[K\rremote: Counting objects:  62% (32/51)\u001b[K\rremote: Counting objects:  64% (33/51)\u001b[K\rremote: Counting objects:  66% (34/51)\u001b[K\rremote: Counting objects:  68% (35/51)\u001b[K\rremote: Counting objects:  70% (36/51)\u001b[K\rremote: Counting objects:  72% (37/51)\u001b[K\rremote: Counting objects:  74% (38/51)\u001b[K\rremote: Counting objects:  76% (39/51)\u001b[K\rremote: Counting objects:  78% (40/51)\u001b[K\rremote: Counting objects:  80% (41/51)\u001b[K\rremote: Counting objects:  82% (42/51)\u001b[K\rremote: Counting objects:  84% (43/51)\u001b[K\rremote: Counting objects:  86% (44/51)\u001b[K\rremote: Counting objects:  88% (45/51)\u001b[K\rremote: Counting objects:  90% (46/51)\u001b[K\rremote: Counting objects:  92% (47/51)\u001b[K\rremote: Counting objects:  94% (48/51)\u001b[K\rremote: Counting objects:  96% (49/51)\u001b[K\rremote: Counting objects:  98% (50/51)\u001b[K\rremote: Counting objects: 100% (51/51)\u001b[K\rremote: Counting objects: 100% (51/51), done.\u001b[K\n",
            "remote: Compressing objects: 100% (46/46), done.\u001b[K\n",
            "remote: Total 51 (delta 22), reused 0 (delta 0), pack-reused 0\u001b[K\n",
            "Unpacking objects: 100% (51/51), done.\n"
          ],
          "name": "stdout"
        }
      ]
    },
    {
      "cell_type": "code",
      "metadata": {
        "id": "O0f0oyqhBurf",
        "colab_type": "code",
        "colab": {}
      },
      "source": [
        "# Importing the dataset\n",
        "train_dataset = pd.read_csv('/content/kaggle/Real or Not? NLP with disaster tweets/train(1).csv')\n",
        "test_dataset = pd.read_csv('/content/kaggle/Real or Not? NLP with disaster tweets/test(1).csv')"
      ],
      "execution_count": 0,
      "outputs": []
    },
    {
      "cell_type": "code",
      "metadata": {
        "id": "FLodUd_TB8Qb",
        "colab_type": "code",
        "outputId": "e286ee0f-676f-400f-feaa-7b46eeee7155",
        "colab": {
          "base_uri": "https://localhost:8080/",
          "height": 206
        }
      },
      "source": [
        "train_dataset.head()"
      ],
      "execution_count": 5,
      "outputs": [
        {
          "output_type": "execute_result",
          "data": {
            "text/html": [
              "<div>\n",
              "<style scoped>\n",
              "    .dataframe tbody tr th:only-of-type {\n",
              "        vertical-align: middle;\n",
              "    }\n",
              "\n",
              "    .dataframe tbody tr th {\n",
              "        vertical-align: top;\n",
              "    }\n",
              "\n",
              "    .dataframe thead th {\n",
              "        text-align: right;\n",
              "    }\n",
              "</style>\n",
              "<table border=\"1\" class=\"dataframe\">\n",
              "  <thead>\n",
              "    <tr style=\"text-align: right;\">\n",
              "      <th></th>\n",
              "      <th>id</th>\n",
              "      <th>keyword</th>\n",
              "      <th>location</th>\n",
              "      <th>text</th>\n",
              "      <th>target</th>\n",
              "    </tr>\n",
              "  </thead>\n",
              "  <tbody>\n",
              "    <tr>\n",
              "      <th>0</th>\n",
              "      <td>1</td>\n",
              "      <td>NaN</td>\n",
              "      <td>NaN</td>\n",
              "      <td>Our Deeds are the Reason of this #earthquake M...</td>\n",
              "      <td>1</td>\n",
              "    </tr>\n",
              "    <tr>\n",
              "      <th>1</th>\n",
              "      <td>4</td>\n",
              "      <td>NaN</td>\n",
              "      <td>NaN</td>\n",
              "      <td>Forest fire near La Ronge Sask. Canada</td>\n",
              "      <td>1</td>\n",
              "    </tr>\n",
              "    <tr>\n",
              "      <th>2</th>\n",
              "      <td>5</td>\n",
              "      <td>NaN</td>\n",
              "      <td>NaN</td>\n",
              "      <td>All residents asked to 'shelter in place' are ...</td>\n",
              "      <td>1</td>\n",
              "    </tr>\n",
              "    <tr>\n",
              "      <th>3</th>\n",
              "      <td>6</td>\n",
              "      <td>NaN</td>\n",
              "      <td>NaN</td>\n",
              "      <td>13,000 people receive #wildfires evacuation or...</td>\n",
              "      <td>1</td>\n",
              "    </tr>\n",
              "    <tr>\n",
              "      <th>4</th>\n",
              "      <td>7</td>\n",
              "      <td>NaN</td>\n",
              "      <td>NaN</td>\n",
              "      <td>Just got sent this photo from Ruby #Alaska as ...</td>\n",
              "      <td>1</td>\n",
              "    </tr>\n",
              "  </tbody>\n",
              "</table>\n",
              "</div>"
            ],
            "text/plain": [
              "   id keyword  ...                                               text target\n",
              "0   1     NaN  ...  Our Deeds are the Reason of this #earthquake M...      1\n",
              "1   4     NaN  ...             Forest fire near La Ronge Sask. Canada      1\n",
              "2   5     NaN  ...  All residents asked to 'shelter in place' are ...      1\n",
              "3   6     NaN  ...  13,000 people receive #wildfires evacuation or...      1\n",
              "4   7     NaN  ...  Just got sent this photo from Ruby #Alaska as ...      1\n",
              "\n",
              "[5 rows x 5 columns]"
            ]
          },
          "metadata": {
            "tags": []
          },
          "execution_count": 5
        }
      ]
    },
    {
      "cell_type": "code",
      "metadata": {
        "id": "0EPsa3CVCcUv",
        "colab_type": "code",
        "outputId": "356a24a3-b8e9-400c-fb22-864b466ea546",
        "colab": {
          "base_uri": "https://localhost:8080/",
          "height": 282
        }
      },
      "source": [
        "#class distribution\n",
        "x=train_dataset.target.value_counts()\n",
        "sns.barplot(x.index,x)\n",
        "plt.gca().set_ylabel('samples')"
      ],
      "execution_count": 6,
      "outputs": [
        {
          "output_type": "execute_result",
          "data": {
            "text/plain": [
              "Text(0, 0.5, 'samples')"
            ]
          },
          "metadata": {
            "tags": []
          },
          "execution_count": 6
        },
        {
          "output_type": "display_data",
          "data": {
            "image/png": "[encoded data removed]",
            "text/plain": [
              "<Figure size 432x288 with 1 Axes>"
            ]
          },
          "metadata": {
            "tags": [],
            "needs_background": "light"
          }
        }
      ]
    },
    {
      "cell_type": "code",
      "metadata": {
        "id": "k1EqGRmZCguW",
        "colab_type": "code",
        "outputId": "d330b5f3-5d17-4573-a483-10df7769de6e",
        "colab": {
          "base_uri": "https://localhost:8080/",
          "height": 356
        }
      },
      "source": [
        "#character analysis\n",
        "fig,(ax1,ax2)=plt.subplots(1,2,figsize=(10,5))\n",
        "tweet_len=train_dataset[train_dataset['target']==1]['text'].str.len()\n",
        "ax1.hist(tweet_len,color='red')\n",
        "ax1.set_title('disaster tweets')\n",
        "tweet_len=train_dataset[train_dataset['target']==0]['text'].str.len()\n",
        "ax2.hist(tweet_len,color='green')\n",
        "ax2.set_title('Not disaster tweets')\n",
        "fig.suptitle('Characters in tweets')\n",
        "plt.show()"
      ],
      "execution_count": 7,
      "outputs": [
        {
          "output_type": "display_data",
          "data": {
            "image/png": "[encoded data removed]",
            "text/plain": [
              "<Figure size 720x360 with 2 Axes>"
            ]
          },
          "metadata": {
            "tags": [],
            "needs_background": "light"
          }
        }
      ]
    },
    {
      "cell_type": "code",
      "metadata": {
        "id": "8QFuoYVACluQ",
        "colab_type": "code",
        "outputId": "8b7165b6-0df6-47f7-915f-37c63a32a947",
        "colab": {
          "base_uri": "https://localhost:8080/",
          "height": 356
        }
      },
      "source": [
        "#word analysis\n",
        "fig,(ax1,ax2)=plt.subplots(1,2,figsize=(10,5))\n",
        "tweet_len=train_dataset[train_dataset['target']==1]['text'].str.split().map(lambda x: len(x))\n",
        "ax1.hist(tweet_len,color='red')\n",
        "ax1.set_title('disaster tweets')\n",
        "tweet_len=train_dataset[train_dataset['target']==0]['text'].str.split().map(lambda x: len(x))\n",
        "ax2.hist(tweet_len,color='green')\n",
        "ax2.set_title('Not disaster tweets')\n",
        "fig.suptitle('Words in a tweet')\n",
        "plt.show()"
      ],
      "execution_count": 8,
      "outputs": [
        {
          "output_type": "display_data",
          "data": {
            "image/png": "[encoded data removed]",
            "text/plain": [
              "<Figure size 720x360 with 2 Axes>"
            ]
          },
          "metadata": {
            "tags": [],
            "needs_background": "light"
          }
        }
      ]
    },
    {
      "cell_type": "code",
      "metadata": {
        "id": "4ftK6X7UCpK9",
        "colab_type": "code",
        "outputId": "aad9afec-7d51-4e67-f46c-db5a5ca26ca2",
        "colab": {
          "base_uri": "https://localhost:8080/",
          "height": 387
        }
      },
      "source": [
        "#Average word length\n",
        "fig,(ax1,ax2)=plt.subplots(1,2,figsize=(10,5))\n",
        "word=train_dataset[train_dataset['target']==1]['text'].str.split().apply(lambda x : [len(i) for i in x])\n",
        "sns.distplot(word.map(lambda x: np.mean(x)),ax=ax1,color='red')\n",
        "ax1.set_title('disaster')\n",
        "word=train_dataset[train_dataset['target']==0]['text'].str.split().apply(lambda x : [len(i) for i in x])\n",
        "sns.distplot(word.map(lambda x: np.mean(x)),ax=ax2,color='green')\n",
        "ax2.set_title('Not disaster')\n",
        "fig.suptitle('Average word length in each tweet')"
      ],
      "execution_count": 9,
      "outputs": [
        {
          "output_type": "execute_result",
          "data": {
            "text/plain": [
              "Text(0.5, 0.98, 'Average word length in each tweet')"
            ]
          },
          "metadata": {
            "tags": []
          },
          "execution_count": 9
        },
        {
          "output_type": "display_data",
          "data": {
            "image/png": "[encoded data removed]",
            "text/plain": [
              "<Figure size 720x360 with 2 Axes>"
            ]
          },
          "metadata": {
            "tags": [],
            "needs_background": "light"
          }
        }
      ]
    },
    {
      "cell_type": "code",
      "metadata": {
        "id": "dT7-XBenCs0Y",
        "colab_type": "code",
        "colab": {}
      },
      "source": [
        "#create corpus\n",
        "def create_corpus(target):\n",
        "    corpus=[]\n",
        "    \n",
        "    for x in train_dataset[train_dataset['target']==target]['text'].str.split():\n",
        "        for i in x:\n",
        "            corpus.append(i)\n",
        "    return corpus"
      ],
      "execution_count": 0,
      "outputs": []
    },
    {
      "cell_type": "code",
      "metadata": {
        "id": "vrDcYhqzM9rn",
        "colab_type": "code",
        "outputId": "2fe6b1cb-93c4-41b3-be19-88e175994afa",
        "colab": {
          "base_uri": "https://localhost:8080/",
          "height": 69
        }
      },
      "source": [
        "nltk.download('stopwords')"
      ],
      "execution_count": 11,
      "outputs": [
        {
          "output_type": "stream",
          "text": [
            "[nltk_data] Downloading package stopwords to /root/nltk_data...\n",
            "[nltk_data]   Package stopwords is already up-to-date!\n"
          ],
          "name": "stdout"
        },
        {
          "output_type": "execute_result",
          "data": {
            "text/plain": [
              "True"
            ]
          },
          "metadata": {
            "tags": []
          },
          "execution_count": 11
        }
      ]
    },
    {
      "cell_type": "code",
      "metadata": {
        "id": "hq6MXIgtCwpo",
        "colab_type": "code",
        "outputId": "628dba97-5c46-42f8-d837-3164b5b99319",
        "colab": {
          "base_uri": "https://localhost:8080/",
          "height": 286
        }
      },
      "source": [
        "#analyze target=0\n",
        "corpus=create_corpus(0)\n",
        "stop=set(stopwords.words('english'))\n",
        "dic=defaultdict(int)\n",
        "\n",
        "for word in corpus:\n",
        "    if word in stop:\n",
        "        dic[word]+=1\n",
        "        \n",
        "top=sorted(dic.items(), key=lambda x:x[1],reverse=True)[:10] \n",
        "\n",
        "x,y=zip(*top)\n",
        "plt.bar(x,y)"
      ],
      "execution_count": 12,
      "outputs": [
        {
          "output_type": "execute_result",
          "data": {
            "text/plain": [
              "<BarContainer object of 10 artists>"
            ]
          },
          "metadata": {
            "tags": []
          },
          "execution_count": 12
        },
        {
          "output_type": "display_data",
          "data": {
            "image/png": "[encoded data removed]",
            "text/plain": [
              "<Figure size 432x288 with 1 Axes>"
            ]
          },
          "metadata": {
            "tags": [],
            "needs_background": "light"
          }
        }
      ]
    },
    {
      "cell_type": "code",
      "metadata": {
        "id": "rtAQuvHbCz9N",
        "colab_type": "code",
        "outputId": "9b81051d-8238-44e6-89ad-e9b8a71ea441",
        "colab": {
          "base_uri": "https://localhost:8080/",
          "height": 282
        }
      },
      "source": [
        "#analyze target=1\n",
        "corpus=create_corpus(1)\n",
        "\n",
        "dic=defaultdict(int)\n",
        "for word in corpus:\n",
        "    if word in stop:\n",
        "        dic[word]+=1\n",
        "\n",
        "top=sorted(dic.items(), key=lambda x:x[1],reverse=True)[:10] \n",
        "    \n",
        "x,y=zip(*top)\n",
        "plt.bar(x,y)"
      ],
      "execution_count": 13,
      "outputs": [
        {
          "output_type": "execute_result",
          "data": {
            "text/plain": [
              "<BarContainer object of 10 artists>"
            ]
          },
          "metadata": {
            "tags": []
          },
          "execution_count": 13
        },
        {
          "output_type": "display_data",
          "data": {
            "image/png": "[encoded data removed]",
            "text/plain": [
              "<Figure size 432x288 with 1 Axes>"
            ]
          },
          "metadata": {
            "tags": [],
            "needs_background": "light"
          }
        }
      ]
    },
    {
      "cell_type": "code",
      "metadata": {
        "id": "xl-LQGJdC3nG",
        "colab_type": "code",
        "outputId": "390e295a-3b87-4e45-fe87-da1bdbba1643",
        "colab": {
          "base_uri": "https://localhost:8080/",
          "height": 337
        }
      },
      "source": [
        "#analyze punctuations in target=1\n",
        "plt.figure(figsize=(10,5))\n",
        "corpus=create_corpus(1)\n",
        "\n",
        "dic=defaultdict(int)\n",
        "import string\n",
        "special = string.punctuation\n",
        "for i in (corpus):\n",
        "    if i in special:\n",
        "        dic[i]+=1\n",
        "        \n",
        "x,y=zip(*dic.items())\n",
        "plt.bar(x,y)"
      ],
      "execution_count": 14,
      "outputs": [
        {
          "output_type": "execute_result",
          "data": {
            "text/plain": [
              "<BarContainer object of 18 artists>"
            ]
          },
          "metadata": {
            "tags": []
          },
          "execution_count": 14
        },
        {
          "output_type": "display_data",
          "data": {
            "image/png": "[encoded data removed]",
            "text/plain": [
              "<Figure size 720x360 with 1 Axes>"
            ]
          },
          "metadata": {
            "tags": [],
            "needs_background": "light"
          }
        }
      ]
    },
    {
      "cell_type": "code",
      "metadata": {
        "id": "ln4y876PC8El",
        "colab_type": "code",
        "outputId": "a8e5d170-4e45-40d1-ae9b-0a4525ecf566",
        "colab": {
          "base_uri": "https://localhost:8080/",
          "height": 337
        }
      },
      "source": [
        "#analyze punctuations in target=0\n",
        "plt.figure(figsize=(10,5))\n",
        "corpus=create_corpus(0)\n",
        "\n",
        "dic=defaultdict(int)\n",
        "import string\n",
        "special = string.punctuation\n",
        "for i in (corpus):\n",
        "    if i in special:\n",
        "        dic[i]+=1\n",
        "        \n",
        "x,y=zip(*dic.items())\n",
        "plt.bar(x,y,color='green')"
      ],
      "execution_count": 15,
      "outputs": [
        {
          "output_type": "execute_result",
          "data": {
            "text/plain": [
              "<BarContainer object of 20 artists>"
            ]
          },
          "metadata": {
            "tags": []
          },
          "execution_count": 15
        },
        {
          "output_type": "display_data",
          "data": {
            "image/png": "[encoded data removed]",
            "text/plain": [
              "<Figure size 720x360 with 1 Axes>"
            ]
          },
          "metadata": {
            "tags": [],
            "needs_background": "light"
          }
        }
      ]
    },
    {
      "cell_type": "code",
      "metadata": {
        "id": "BkdxpkkeC_3O",
        "colab_type": "code",
        "outputId": "850d5986-27eb-49b5-c724-ef8499a42ba1",
        "colab": {
          "base_uri": "https://localhost:8080/",
          "height": 282
        }
      },
      "source": [
        "#Common Words\n",
        "counter=Counter(corpus)\n",
        "most=counter.most_common()\n",
        "x=[]\n",
        "y=[]\n",
        "for word,count in most[:40]:\n",
        "    if (word not in stop) :\n",
        "        x.append(word)\n",
        "        y.append(count)\n",
        "        \n",
        "sns.barplot(x=y,y=x)"
      ],
      "execution_count": 16,
      "outputs": [
        {
          "output_type": "execute_result",
          "data": {
            "text/plain": [
              "<matplotlib.axes._subplots.AxesSubplot at 0x7fda5ba61978>"
            ]
          },
          "metadata": {
            "tags": []
          },
          "execution_count": 16
        },
        {
          "output_type": "display_data",
          "data": {
            "image/png": "[encoded data removed]",
            "text/plain": [
              "<Figure size 432x288 with 1 Axes>"
            ]
          },
          "metadata": {
            "tags": [],
            "needs_background": "light"
          }
        }
      ]
    },
    {
      "cell_type": "code",
      "metadata": {
        "id": "JQhyEPNIDDTd",
        "colab_type": "code",
        "outputId": "f47790cb-3e55-4994-a6ec-40bd79188fad",
        "colab": {
          "base_uri": "https://localhost:8080/",
          "height": 337
        }
      },
      "source": [
        "#ngram analysis\n",
        "def get_top_tweet_bigrams(corpus, n=None):\n",
        "    vec = CountVectorizer(ngram_range=(2, 2)).fit(corpus)\n",
        "    bag_of_words = vec.transform(corpus)\n",
        "    sum_words = bag_of_words.sum(axis=0) \n",
        "    words_freq = [(word, sum_words[0, idx]) for word, idx in vec.vocabulary_.items()]\n",
        "    words_freq =sorted(words_freq, key = lambda x: x[1], reverse=True)\n",
        "    return words_freq[:n]\n",
        "\n",
        "plt.figure(figsize=(10,5))\n",
        "top_tweet_bigrams=get_top_tweet_bigrams(train_dataset['text'])[:10]\n",
        "x,y=map(list,zip(*top_tweet_bigrams))\n",
        "sns.barplot(x=y,y=x)"
      ],
      "execution_count": 17,
      "outputs": [
        {
          "output_type": "execute_result",
          "data": {
            "text/plain": [
              "<matplotlib.axes._subplots.AxesSubplot at 0x7fda5b31d198>"
            ]
          },
          "metadata": {
            "tags": []
          },
          "execution_count": 17
        },
        {
          "output_type": "display_data",
          "data": {
            "image/png": "[encoded data removed]",
            "text/plain": [
              "<Figure size 720x360 with 1 Axes>"
            ]
          },
          "metadata": {
            "tags": [],
            "needs_background": "light"
          }
        }
      ]
    },
    {
      "cell_type": "code",
      "metadata": {
        "id": "4RK9igb0DGb0",
        "colab_type": "code",
        "outputId": "154d9d46-dfb8-4ab7-cedb-d8fa7360b3b2",
        "colab": {
          "base_uri": "https://localhost:8080/",
          "height": 139
        }
      },
      "source": [
        "#Data Cleaning\n",
        "#df=pd.concat([train_dataset,test_dataset])\n",
        "#df.shape\n",
        "\n",
        "example=\"New competition launched :https://www.kaggle.com/c/nlp-getting-started\"\n",
        "\n",
        "def remove_URL(text):\n",
        "    url = re.compile(r'https?://\\S+|www\\.\\S+')\n",
        "    return url.sub(r'',text)\n",
        "\n",
        "remove_URL(example)\n",
        "\n",
        "train_dataset['text']=train_dataset['text'].apply(lambda x : remove_URL(x))\n",
        "test_dataset['text']=test_dataset['text'].apply(lambda x : remove_URL(x))\n",
        "\n",
        "example = \"\"\"<div>\n",
        "<h1>Real or Fake</h1>\n",
        "<p>Kaggle </p>\n",
        "<a href=\"https://www.kaggle.com/c/nlp-getting-started\">getting started</a>\n",
        "</div>\"\"\"\n",
        "\n",
        "def remove_html(text):\n",
        "    html=re.compile(r'<.*?>')\n",
        "    return html.sub(r'',text)\n",
        "\n",
        "print(remove_html(example))\n",
        "\n",
        "train_dataset['text']=train_dataset['text'].apply(lambda x : remove_html(x))\n",
        "test_dataset['text']=test_dataset['text'].apply(lambda x : remove_html(x))\n",
        "\n",
        "def remove_emoji(text):\n",
        "    emoji_pattern = re.compile(\"[\"\n",
        "                           u\"\\U0001F600-\\U0001F64F\"  # emoticons\n",
        "                           u\"\\U0001F300-\\U0001F5FF\"  # symbols & pictographs\n",
        "                           u\"\\U0001F680-\\U0001F6FF\"  # transport & map symbols\n",
        "                           u\"\\U0001F1E0-\\U0001F1FF\"  # flags (iOS)\n",
        "                           u\"\\U00002702-\\U000027B0\"\n",
        "                           u\"\\U000024C2-\\U0001F251\"\n",
        "                           \"]+\", flags=re.UNICODE)\n",
        "    return emoji_pattern.sub(r'', text)\n",
        "\n",
        "remove_emoji(\"Omg another Earthquake 😔😔\")\n",
        "\n",
        "train_dataset['text']=train_dataset['text'].apply(lambda x : remove_emoji(x))\n",
        "test_dataset['text']=test_dataset['text'].apply(lambda x : remove_emoji(x))\n",
        "\n",
        "def remove_punct(text):\n",
        "    table=str.maketrans('','',string.punctuation)\n",
        "    return text.translate(table)\n",
        "\n",
        "example=\"I am a #king\"\n",
        "print(remove_punct(example))\n",
        "\n",
        "train_dataset['text']=train_dataset['text'].apply(lambda x : remove_punct(x))\n",
        "test_dataset['text']=test_dataset['text'].apply(lambda x : remove_punct(x))\n",
        "\n",
        "spell = SpellChecker()\n",
        "def correct_spellings(text):\n",
        "    corrected_text = []\n",
        "    misspelled_words = spell.unknown(text.split())\n",
        "    for word in text.split():\n",
        "        if word in misspelled_words:\n",
        "            corrected_text.append(spell.correction(word))\n",
        "        else:\n",
        "            corrected_text.append(word)\n",
        "    return \" \".join(corrected_text)\n",
        "        \n",
        "text = \"corect me plese\"\n",
        "correct_spellings(text)\n",
        "\n",
        "#train_dataset['text']=train_dataset['text'].apply(lambda x : correct_spellings(x))\n",
        "#test_dataset['text']=test_dataset['text'].apply(lambda x : correct_spellings(x))"
      ],
      "execution_count": 18,
      "outputs": [
        {
          "output_type": "stream",
          "text": [
            "\n",
            "Real or Fake\n",
            "Kaggle \n",
            "getting started\n",
            "\n",
            "I am a king\n"
          ],
          "name": "stdout"
        },
        {
          "output_type": "execute_result",
          "data": {
            "text/plain": [
              "'correct me please'"
            ]
          },
          "metadata": {
            "tags": []
          },
          "execution_count": 18
        }
      ]
    },
    {
      "cell_type": "code",
      "metadata": {
        "id": "78DjhCuMDUq1",
        "colab_type": "code",
        "outputId": "c2b63035-f840-4143-807c-a2cdf9edc1c3",
        "colab": {
          "base_uri": "https://localhost:8080/",
          "height": 206
        }
      },
      "source": [
        "train_dataset.head()"
      ],
      "execution_count": 19,
      "outputs": [
        {
          "output_type": "execute_result",
          "data": {
            "text/html": [
              "<div>\n",
              "<style scoped>\n",
              "    .dataframe tbody tr th:only-of-type {\n",
              "        vertical-align: middle;\n",
              "    }\n",
              "\n",
              "    .dataframe tbody tr th {\n",
              "        vertical-align: top;\n",
              "    }\n",
              "\n",
              "    .dataframe thead th {\n",
              "        text-align: right;\n",
              "    }\n",
              "</style>\n",
              "<table border=\"1\" class=\"dataframe\">\n",
              "  <thead>\n",
              "    <tr style=\"text-align: right;\">\n",
              "      <th></th>\n",
              "      <th>id</th>\n",
              "      <th>keyword</th>\n",
              "      <th>location</th>\n",
              "      <th>text</th>\n",
              "      <th>target</th>\n",
              "    </tr>\n",
              "  </thead>\n",
              "  <tbody>\n",
              "    <tr>\n",
              "      <th>0</th>\n",
              "      <td>1</td>\n",
              "      <td>NaN</td>\n",
              "      <td>NaN</td>\n",
              "      <td>Our Deeds are the Reason of this earthquake Ma...</td>\n",
              "      <td>1</td>\n",
              "    </tr>\n",
              "    <tr>\n",
              "      <th>1</th>\n",
              "      <td>4</td>\n",
              "      <td>NaN</td>\n",
              "      <td>NaN</td>\n",
              "      <td>Forest fire near La Ronge Sask Canada</td>\n",
              "      <td>1</td>\n",
              "    </tr>\n",
              "    <tr>\n",
              "      <th>2</th>\n",
              "      <td>5</td>\n",
              "      <td>NaN</td>\n",
              "      <td>NaN</td>\n",
              "      <td>All residents asked to shelter in place are be...</td>\n",
              "      <td>1</td>\n",
              "    </tr>\n",
              "    <tr>\n",
              "      <th>3</th>\n",
              "      <td>6</td>\n",
              "      <td>NaN</td>\n",
              "      <td>NaN</td>\n",
              "      <td>13000 people receive wildfires evacuation orde...</td>\n",
              "      <td>1</td>\n",
              "    </tr>\n",
              "    <tr>\n",
              "      <th>4</th>\n",
              "      <td>7</td>\n",
              "      <td>NaN</td>\n",
              "      <td>NaN</td>\n",
              "      <td>Just got sent this photo from Ruby Alaska as s...</td>\n",
              "      <td>1</td>\n",
              "    </tr>\n",
              "  </tbody>\n",
              "</table>\n",
              "</div>"
            ],
            "text/plain": [
              "   id keyword  ...                                               text target\n",
              "0   1     NaN  ...  Our Deeds are the Reason of this earthquake Ma...      1\n",
              "1   4     NaN  ...              Forest fire near La Ronge Sask Canada      1\n",
              "2   5     NaN  ...  All residents asked to shelter in place are be...      1\n",
              "3   6     NaN  ...  13000 people receive wildfires evacuation orde...      1\n",
              "4   7     NaN  ...  Just got sent this photo from Ruby Alaska as s...      1\n",
              "\n",
              "[5 rows x 5 columns]"
            ]
          },
          "metadata": {
            "tags": []
          },
          "execution_count": 19
        }
      ]
    },
    {
      "cell_type": "code",
      "metadata": {
        "id": "R7mgsW1LO4bN",
        "colab_type": "code",
        "outputId": "df1fbf56-cc9a-4c82-ba28-09be54a9960a",
        "colab": {
          "base_uri": "https://localhost:8080/",
          "height": 1000
        }
      },
      "source": [
        "#test google encoder in TF2\n",
        "hub_url = \"https://tfhub.dev/google/universal-sentence-encoder-large/5\"\n",
        "embed = hub.load(hub_url)\n",
        "embeddings = embed([\"The quick brown fox jumps over the lazy dog.\"])\n",
        "\n",
        "print(embeddings)"
      ],
      "execution_count": 20,
      "outputs": [
        {
          "output_type": "stream",
          "text": [
            "tf.Tensor(\n",
            "[[ 1.30510554e-02  2.23512053e-02 -3.26327495e-02 -2.20062155e-02\n",
            "  -1.97359193e-02  2.87827104e-03 -4.99825813e-02 -6.57383576e-02\n",
            "  -1.06090613e-01 -8.26308690e-03 -5.18092373e-03 -4.60234098e-02\n",
            "   1.01428311e-02  4.80910279e-02 -2.42416356e-02 -6.52229460e-03\n",
            "  -2.58720554e-02 -2.92225946e-02 -7.66655570e-03 -1.58022251e-02\n",
            "   1.49503518e-02  1.38627989e-02 -6.49455190e-02  2.68793758e-02\n",
            "  -2.44950335e-02 -5.51504865e-02  3.06375381e-02  9.46218614e-03\n",
            "   4.71525937e-02  1.67700592e-02 -2.67634336e-02  8.53415485e-03\n",
            "   4.10483181e-02  5.43544777e-02  2.49953698e-02  8.80336538e-02\n",
            "   7.30200717e-03  7.00786039e-02  3.80278230e-02 -4.04341556e-02\n",
            "   2.31793970e-02  8.42554495e-02  1.05559798e-02 -1.95747837e-02\n",
            "   1.17703946e-02  2.67261975e-02 -1.22729778e-01 -2.36627627e-02\n",
            "  -5.76132797e-02 -2.08594818e-02 -5.39495051e-02 -8.13628361e-02\n",
            "  -2.09483448e-02 -9.78392363e-02 -3.36710364e-02 -7.71650299e-02\n",
            "  -1.99453812e-02 -5.14010957e-04 -7.94349611e-03  9.59451590e-03\n",
            "  -2.05605309e-02  1.66724082e-02  1.83792505e-02 -3.45732011e-02\n",
            "  -4.05239016e-02  3.62681778e-04  5.30657768e-02  3.81172188e-02\n",
            "   6.40850067e-02 -2.96256896e-02 -4.19220328e-02  5.98587431e-02\n",
            "  -3.58434096e-02 -1.59555022e-02 -3.85745205e-02 -8.83159712e-02\n",
            "   3.81266698e-02  9.58513469e-03  8.41263123e-03 -1.22806877e-02\n",
            "  -1.86504591e-02  6.19713180e-02 -1.65348891e-02 -1.09234378e-02\n",
            "  -2.15073470e-02  1.67681631e-02 -4.38571628e-03  3.56509537e-02\n",
            "  -3.94808501e-02  6.16529211e-03 -3.75717841e-02 -6.70827553e-02\n",
            "  -1.61489528e-02  1.73628947e-03 -4.36970517e-02 -6.86326772e-02\n",
            "   2.74180807e-02  7.78626576e-02  2.86140330e-02  2.39731558e-02\n",
            "  -1.63659593e-03  2.89698374e-02  1.01530703e-03  7.98910204e-03\n",
            "   5.66530079e-02 -4.01022062e-02 -1.24496417e-02  2.00173166e-02\n",
            "   3.97255756e-02  1.04321465e-01  6.38526538e-03 -2.16195732e-03\n",
            "   9.60171409e-03  1.32529414e-03 -5.35541214e-02  2.81399433e-02\n",
            "   2.24209074e-02  2.94182990e-02 -5.41973077e-02 -5.56947924e-02\n",
            "  -2.24238858e-02 -2.30562799e-02  2.83505730e-02  6.37288615e-02\n",
            "  -4.56062332e-02  7.96137154e-02  1.75981186e-02  5.77856638e-02\n",
            "  -5.20222820e-02  4.71548969e-03 -1.43590439e-02  6.64082319e-02\n",
            "   6.52252790e-03 -4.67646420e-02 -1.01118004e-02  3.61345261e-02\n",
            "   2.92201750e-02  9.70680080e-03  2.97647007e-02  9.04257223e-03\n",
            "   4.22683880e-02 -2.26270743e-02 -2.93955263e-02  5.37031516e-02\n",
            "  -5.67799173e-02 -7.49739930e-02 -3.00051533e-02 -1.47405863e-02\n",
            "  -3.79995033e-02 -1.97949950e-02 -4.99718543e-03  1.64380632e-02\n",
            "  -1.09060472e-02  6.23621978e-02 -9.56893861e-02 -1.43517870e-02\n",
            "   4.87724431e-02  5.46380319e-02  8.09011087e-02 -5.59236519e-02\n",
            "  -5.91957606e-02  3.52833606e-02 -3.66732776e-02 -4.24636193e-02\n",
            "  -4.32147570e-02 -2.31338311e-02  1.78464467e-03 -4.37053526e-03\n",
            "   6.22779364e-03  5.84433747e-06 -1.70866158e-02 -2.52319723e-02\n",
            "   2.04813909e-02  1.58760585e-02  1.23808142e-02 -1.65295936e-02\n",
            "   4.64978293e-02  2.53238603e-02 -1.21237244e-02  2.06424035e-02\n",
            "   4.76677455e-02 -4.44704369e-02  2.18492541e-02 -1.69552621e-02\n",
            "   4.76274826e-02 -1.75862256e-02  4.86374386e-02 -3.64485085e-02\n",
            "   5.33418879e-02 -2.42049340e-03 -4.70954180e-02 -8.93115327e-02\n",
            "   3.31550441e-03 -7.58657232e-02 -1.17261102e-02 -1.00931413e-02\n",
            "   1.44746518e-02  2.43485030e-02  3.90693843e-02  1.75261218e-02\n",
            "   6.76604062e-02 -3.63261090e-03 -1.97632462e-02 -7.40987137e-02\n",
            "  -3.53412740e-02 -1.32794352e-02  4.49442454e-02  4.21283022e-02\n",
            "  -7.21893162e-02 -8.91427603e-03 -5.66054555e-03 -8.51842239e-02\n",
            "  -3.28644179e-02 -3.82947992e-03  4.18237969e-02  1.04376197e-01\n",
            "   4.25585583e-02  6.14758357e-02 -3.55758034e-02 -8.53194296e-02\n",
            "   2.96379346e-02 -3.15317921e-02 -3.08143422e-02  2.45287679e-02\n",
            "   1.92262474e-02  3.26256566e-02  7.17848837e-02 -7.98949450e-02\n",
            "  -6.41677948e-03  4.50197421e-02 -3.05340309e-02  3.63905840e-02\n",
            "   2.16149781e-02 -8.79750624e-02 -7.53758028e-02 -2.86869165e-02\n",
            "  -2.47387961e-02 -3.94386910e-02 -2.87629701e-02  5.16704023e-02\n",
            "   1.08049139e-02 -3.51577438e-02 -4.68228646e-02  5.69637641e-02\n",
            "   4.27662861e-03 -1.75382793e-02 -1.40104620e-02  3.21830139e-02\n",
            "   4.53179888e-02 -5.70895383e-03 -5.93290702e-02 -8.36569369e-02\n",
            "  -6.82351366e-03 -4.32504974e-02  1.51945325e-03  1.32313697e-02\n",
            "   1.14725359e-01 -3.14336680e-02 -3.40943560e-02  3.83546725e-02\n",
            "   3.96422036e-02 -2.74240989e-02 -1.26337139e-02  3.24001797e-02\n",
            "   1.31626138e-02  3.95017024e-03 -2.80712303e-02 -5.20608872e-02\n",
            "   1.02441892e-01 -5.03091402e-02 -8.15021396e-02 -2.86616236e-02\n",
            "  -3.66753601e-02  4.75562252e-02 -4.26127389e-02 -5.62269380e-03\n",
            "   5.06229512e-02 -2.97957603e-02  4.61290882e-04 -8.54618028e-02\n",
            "   1.83498617e-02 -2.79304422e-02  3.10077854e-02 -1.66596156e-02\n",
            "  -4.29898202e-02  5.19757494e-02  6.11238256e-02  1.83802489e-02\n",
            "  -2.29403600e-02 -2.25061830e-02 -2.46236995e-02 -3.38381715e-02\n",
            "   1.29135577e-02  6.04223758e-02  6.11912906e-02  4.39488217e-02\n",
            "  -3.73961292e-02  1.03525324e-02 -3.51868430e-03 -5.07511832e-02\n",
            "   2.31725983e-02  9.55753494e-03  1.84809510e-02 -2.69438140e-02\n",
            "   1.43295266e-02 -1.77607872e-02 -2.41135322e-02 -2.81550386e-03\n",
            "  -1.16728470e-02  9.08990111e-03 -5.63307777e-02  1.35875493e-02\n",
            "   2.34783459e-02  3.32067609e-02 -1.47605559e-03 -9.13196430e-02\n",
            "   4.91562523e-02 -3.20920199e-02 -5.55431955e-02 -5.38917482e-02\n",
            "  -4.42509502e-02 -8.69085044e-02  9.51975286e-02 -4.72711138e-02\n",
            "   1.72687527e-02  3.12780552e-02  3.20058092e-02  2.97774058e-02\n",
            "  -1.13533111e-02 -1.53569710e-02  9.14648846e-02  4.88080271e-02\n",
            "   3.72359566e-02 -3.60971726e-02 -3.49151641e-02 -2.37103850e-02\n",
            "  -3.22938897e-02  1.01348877e-01 -1.98425502e-02  2.50768237e-04\n",
            "   1.13255329e-01  2.57981997e-02 -3.96221913e-02  7.09819943e-02\n",
            "  -1.65785872e-03  1.34416530e-02  2.30553150e-02 -2.97242608e-02\n",
            "   9.58466250e-03  1.89478844e-02  1.13347635e-01 -2.66136024e-02\n",
            "  -1.51948463e-02 -8.93412344e-03  5.72557338e-02  7.46775344e-02\n",
            "   2.68207360e-02 -2.44155079e-02 -6.15529753e-02 -2.53795963e-02\n",
            "  -7.06392229e-02 -1.73063874e-02 -2.29042652e-03  4.19526435e-02\n",
            "  -5.76708391e-02 -5.06585240e-02 -5.25425859e-02  2.95766871e-02\n",
            "  -3.77396084e-02 -2.36055572e-02 -3.61366607e-02  5.05258255e-02\n",
            "  -5.85495308e-02  3.28899026e-02 -5.30673675e-02 -2.62691523e-03\n",
            "  -4.20592092e-02 -1.89258736e-02 -5.45872711e-02  6.06192276e-02\n",
            "  -4.33678813e-02  8.49743932e-02 -2.71248771e-03 -4.97411564e-02\n",
            "   2.55673807e-02 -6.95709810e-02 -7.01765195e-02  2.79540122e-02\n",
            "  -8.02609697e-03  4.92727943e-02 -7.24410936e-02 -2.71554198e-02\n",
            "   8.49604793e-03  5.37801981e-02  6.57572784e-03  1.04551762e-01\n",
            "  -8.89106318e-02  9.31959134e-03  9.07114334e-03 -4.37426269e-02\n",
            "   3.77774909e-02 -6.88501373e-02 -2.01974381e-02 -3.85404006e-02\n",
            "   2.45600473e-02  6.51611760e-03 -3.88340540e-02  8.05656426e-03\n",
            "  -6.65933490e-02 -8.14922601e-02  3.23337428e-02  2.66795661e-02\n",
            "   2.27054209e-02 -7.80579597e-02  4.98315878e-02  3.72891463e-02\n",
            "   1.12363897e-01  2.31426582e-02  2.78296340e-02  2.90320981e-02\n",
            "   6.50897101e-02 -4.93881591e-02 -3.13632786e-02  9.64809805e-02\n",
            "  -5.34637924e-03 -3.69257703e-02  8.06441158e-02  9.17557254e-02\n",
            "   7.16152564e-02 -5.60978167e-02  3.41487750e-02  4.13870886e-02\n",
            "  -6.03284985e-02 -3.53331156e-02  1.07878884e-02 -4.89568561e-02\n",
            "   1.24122398e-02 -3.32775339e-02  3.14035788e-02  1.06240800e-02\n",
            "   5.06327413e-02  8.76637697e-02  7.31018707e-02  3.11224312e-02\n",
            "   4.76860665e-02  1.43652996e-02  6.15672842e-02  5.23322634e-02\n",
            "  -3.97259668e-02  4.24844399e-02 -6.73014373e-02  6.44944161e-02\n",
            "  -3.65441702e-02  1.13824569e-02 -3.53190899e-02 -1.24321552e-02\n",
            "   4.60254587e-03 -2.45263372e-02  4.23878320e-02  2.52231229e-02\n",
            "   3.99648510e-02 -9.37322974e-02  2.37082206e-02  4.81616706e-02\n",
            "  -3.96611765e-02 -1.37417018e-02  5.13408668e-02 -2.52818726e-02\n",
            "  -1.78964324e-02  2.58440785e-02  3.70432995e-02 -3.09905913e-02\n",
            "   3.65853123e-02 -2.69692801e-02 -2.40843706e-02  6.78090900e-02\n",
            "  -2.88151037e-02 -1.51019748e-02 -2.06235908e-02 -3.73362675e-02\n",
            "   3.34645133e-03  7.07683787e-02 -4.13178615e-02 -5.37513662e-03\n",
            "  -5.64382924e-03 -3.10857687e-02 -2.43348442e-02  3.90520543e-02\n",
            "   4.93916385e-02  2.33722497e-02  2.15242468e-02  7.53150508e-02\n",
            "   3.32343280e-02 -5.69857545e-02  1.62367690e-02 -3.77112851e-02\n",
            "   4.50728610e-02 -6.81181327e-02 -3.43985087e-03  9.77399573e-03\n",
            "   5.32222018e-02  4.83134314e-02  4.21766602e-02  3.02523766e-02\n",
            "  -3.37944254e-02  8.96656886e-03 -3.39512005e-02  2.56313514e-02\n",
            "   3.28349881e-03 -5.65095339e-03 -4.79302667e-02 -1.14927590e-01]], shape=(1, 512), dtype=float32)\n"
          ],
          "name": "stdout"
        }
      ]
    },
    {
      "cell_type": "code",
      "metadata": {
        "id": "n-zwpPizSVAd",
        "colab_type": "code",
        "colab": {}
      },
      "source": [
        "X_train = train_dataset.iloc[:, 3].values\n",
        "y_train = train_dataset.iloc[:, 4].values\n",
        "X_test = test_dataset.iloc[:,3].values"
      ],
      "execution_count": 0,
      "outputs": []
    },
    {
      "cell_type": "code",
      "metadata": {
        "id": "ZqbYwVCCUlJo",
        "colab_type": "code",
        "colab": {}
      },
      "source": [
        "#splitting into test & train\n",
        "#X_train, X_test, y_train, y_test = train_test_split(X, y, test_size = 0.2, random_state = 0)"
      ],
      "execution_count": 0,
      "outputs": []
    },
    {
      "cell_type": "code",
      "metadata": {
        "id": "1-AHECNDUt7y",
        "colab_type": "code",
        "colab": {}
      },
      "source": [
        "#encoding\n",
        "X_train_embed = embed(X_train)\n",
        "X_test_embed = embed(X_test)"
      ],
      "execution_count": 0,
      "outputs": []
    },
    {
      "cell_type": "code",
      "metadata": {
        "id": "O_TsR8MNOzn4",
        "colab_type": "code",
        "colab": {}
      },
      "source": [
        "X_train_embed = X_train_embed[:,np.newaxis,:]"
      ],
      "execution_count": 0,
      "outputs": []
    },
    {
      "cell_type": "code",
      "metadata": {
        "id": "QOmTRfSVPBOr",
        "colab_type": "code",
        "colab": {}
      },
      "source": [
        "X_test_embed = X_test_embed[:,np.newaxis,:]"
      ],
      "execution_count": 0,
      "outputs": []
    },
    {
      "cell_type": "code",
      "metadata": {
        "id": "XCdjpsHuMkUi",
        "colab_type": "code",
        "colab": {
          "base_uri": "https://localhost:8080/",
          "height": 34
        },
        "outputId": "6263db53-db51-418c-bcc0-a7a580bdc1cd"
      },
      "source": [
        "X_test_embed.shape"
      ],
      "execution_count": 83,
      "outputs": [
        {
          "output_type": "execute_result",
          "data": {
            "text/plain": [
              "TensorShape([3263, 1, 512])"
            ]
          },
          "metadata": {
            "tags": []
          },
          "execution_count": 83
        }
      ]
    },
    {
      "cell_type": "code",
      "metadata": {
        "id": "sDTizqQOWbvf",
        "colab_type": "code",
        "colab": {}
      },
      "source": [
        "#Building a model\n",
        "model = Sequential()"
      ],
      "execution_count": 0,
      "outputs": []
    },
    {
      "cell_type": "code",
      "metadata": {
        "id": "Td2u-UcVY1gI",
        "colab_type": "code",
        "outputId": "4439215a-ded4-4f44-fa47-05bd4f0498ae",
        "colab": {
          "base_uri": "https://localhost:8080/",
          "height": 72
        }
      },
      "source": [
        "model.add(Input(shape=(1,512),dtype='float32'))\n",
        "model.add(SpatialDropout1D(0.2))\n",
        "model.add(LSTM(256, dropout=0.2, recurrent_dropout=0.2))\n",
        "model.add(Dense(1, activation='sigmoid'))\n",
        "\n",
        "optimzer=Adam(learning_rate=1e-5)\n",
        "\n",
        "model.compile(loss='binary_crossentropy',optimizer=optimzer,metrics=['accuracy'])"
      ],
      "execution_count": 67,
      "outputs": [
        {
          "output_type": "stream",
          "text": [
            "WARNING:tensorflow:Layer lstm_8 will not use cuDNN kernel since it doesn't meet the cuDNN kernel criteria. It will use generic GPU kernel as fallback when running on GPU\n"
          ],
          "name": "stdout"
        },
        {
          "output_type": "stream",
          "text": [
            "WARNING:tensorflow:Layer lstm_8 will not use cuDNN kernel since it doesn't meet the cuDNN kernel criteria. It will use generic GPU kernel as fallback when running on GPU\n"
          ],
          "name": "stderr"
        }
      ]
    },
    {
      "cell_type": "code",
      "metadata": {
        "id": "JL7oRfUDZt0Z",
        "colab_type": "code",
        "outputId": "3016032a-10a1-490b-cab4-b82395609c47",
        "colab": {
          "base_uri": "https://localhost:8080/",
          "height": 260
        }
      },
      "source": [
        "model.summary()"
      ],
      "execution_count": 64,
      "outputs": [
        {
          "output_type": "stream",
          "text": [
            "Model: \"sequential_7\"\n",
            "_________________________________________________________________\n",
            "Layer (type)                 Output Shape              Param #   \n",
            "=================================================================\n",
            "spatial_dropout1d_8 (Spatial (None, 1, 512)            0         \n",
            "_________________________________________________________________\n",
            "dense_9 (Dense)              (None, 1, 256)            131328    \n",
            "_________________________________________________________________\n",
            "lstm_7 (LSTM)                (None, 1)                 1032      \n",
            "=================================================================\n",
            "Total params: 132,360\n",
            "Trainable params: 132,360\n",
            "Non-trainable params: 0\n",
            "_________________________________________________________________\n"
          ],
          "name": "stdout"
        }
      ]
    },
    {
      "cell_type": "code",
      "metadata": {
        "id": "vpLHcI6eIA56",
        "colab_type": "code",
        "colab": {}
      },
      "source": [
        "from time import time"
      ],
      "execution_count": 0,
      "outputs": []
    },
    {
      "cell_type": "code",
      "metadata": {
        "id": "x6QXVMPoHqDm",
        "colab_type": "code",
        "colab": {
          "base_uri": "https://localhost:8080/",
          "height": 1000
        },
        "outputId": "8f22f9b5-751d-4d8a-9674-6cf1507071ae"
      },
      "source": [
        "training_start_time = time()\n",
        "\n",
        "trained = model.fit(X_train_embed, y_train, batch_size=64, epochs=100,validation_split=0.2)\n",
        "\n",
        "print(\"Training time finished.\\n{} epochs in {}\".format(100, datetime.timedelta(seconds=time()-training_start_time)))"
      ],
      "execution_count": 84,
      "outputs": [
        {
          "output_type": "stream",
          "text": [
            "Epoch 1/100\n",
            "96/96 [==============================] - 1s 8ms/step - loss: 0.4497 - accuracy: 0.8048 - val_loss: 0.4113 - val_accuracy: 0.8299\n",
            "Epoch 2/100\n",
            "96/96 [==============================] - 1s 10ms/step - loss: 0.4499 - accuracy: 0.8079 - val_loss: 0.4105 - val_accuracy: 0.8293\n",
            "Epoch 3/100\n",
            "96/96 [==============================] - 1s 8ms/step - loss: 0.4502 - accuracy: 0.8067 - val_loss: 0.4098 - val_accuracy: 0.8293\n",
            "Epoch 4/100\n",
            "96/96 [==============================] - 1s 8ms/step - loss: 0.4476 - accuracy: 0.8064 - val_loss: 0.4090 - val_accuracy: 0.8299\n",
            "Epoch 5/100\n",
            "96/96 [==============================] - 1s 9ms/step - loss: 0.4500 - accuracy: 0.8089 - val_loss: 0.4083 - val_accuracy: 0.8299\n",
            "Epoch 6/100\n",
            "96/96 [==============================] - 1s 7ms/step - loss: 0.4498 - accuracy: 0.8069 - val_loss: 0.4077 - val_accuracy: 0.8299\n",
            "Epoch 7/100\n",
            "96/96 [==============================] - 1s 10ms/step - loss: 0.4481 - accuracy: 0.8046 - val_loss: 0.4071 - val_accuracy: 0.8299\n",
            "Epoch 8/100\n",
            "96/96 [==============================] - 1s 8ms/step - loss: 0.4484 - accuracy: 0.8056 - val_loss: 0.4065 - val_accuracy: 0.8299\n",
            "Epoch 9/100\n",
            "96/96 [==============================] - 1s 8ms/step - loss: 0.4486 - accuracy: 0.8082 - val_loss: 0.4058 - val_accuracy: 0.8299\n",
            "Epoch 10/100\n",
            "96/96 [==============================] - 1s 8ms/step - loss: 0.4461 - accuracy: 0.8077 - val_loss: 0.4052 - val_accuracy: 0.8299\n",
            "Epoch 11/100\n",
            "96/96 [==============================] - 1s 9ms/step - loss: 0.4465 - accuracy: 0.8066 - val_loss: 0.4047 - val_accuracy: 0.8293\n",
            "Epoch 12/100\n",
            "96/96 [==============================] - 1s 8ms/step - loss: 0.4422 - accuracy: 0.8092 - val_loss: 0.4041 - val_accuracy: 0.8286\n",
            "Epoch 13/100\n",
            "96/96 [==============================] - 1s 8ms/step - loss: 0.4456 - accuracy: 0.8057 - val_loss: 0.4035 - val_accuracy: 0.8286\n",
            "Epoch 14/100\n",
            "96/96 [==============================] - 1s 8ms/step - loss: 0.4456 - accuracy: 0.8097 - val_loss: 0.4030 - val_accuracy: 0.8286\n",
            "Epoch 15/100\n",
            "96/96 [==============================] - 1s 8ms/step - loss: 0.4434 - accuracy: 0.8082 - val_loss: 0.4024 - val_accuracy: 0.8293\n",
            "Epoch 16/100\n",
            "96/96 [==============================] - 1s 8ms/step - loss: 0.4418 - accuracy: 0.8076 - val_loss: 0.4019 - val_accuracy: 0.8293\n",
            "Epoch 17/100\n",
            "96/96 [==============================] - 1s 9ms/step - loss: 0.4444 - accuracy: 0.8041 - val_loss: 0.4014 - val_accuracy: 0.8299\n",
            "Epoch 18/100\n",
            "96/96 [==============================] - 1s 8ms/step - loss: 0.4436 - accuracy: 0.8057 - val_loss: 0.4009 - val_accuracy: 0.8299\n",
            "Epoch 19/100\n",
            "96/96 [==============================] - 1s 8ms/step - loss: 0.4417 - accuracy: 0.8069 - val_loss: 0.4003 - val_accuracy: 0.8299\n",
            "Epoch 20/100\n",
            "96/96 [==============================] - 1s 9ms/step - loss: 0.4417 - accuracy: 0.8097 - val_loss: 0.3998 - val_accuracy: 0.8299\n",
            "Epoch 21/100\n",
            "96/96 [==============================] - 1s 8ms/step - loss: 0.4398 - accuracy: 0.8089 - val_loss: 0.3994 - val_accuracy: 0.8293\n",
            "Epoch 22/100\n",
            "96/96 [==============================] - 1s 8ms/step - loss: 0.4404 - accuracy: 0.8103 - val_loss: 0.3988 - val_accuracy: 0.8306\n",
            "Epoch 23/100\n",
            "96/96 [==============================] - 1s 9ms/step - loss: 0.4411 - accuracy: 0.8099 - val_loss: 0.3984 - val_accuracy: 0.8306\n",
            "Epoch 24/100\n",
            "96/96 [==============================] - 1s 8ms/step - loss: 0.4381 - accuracy: 0.8057 - val_loss: 0.3979 - val_accuracy: 0.8306\n",
            "Epoch 25/100\n",
            "96/96 [==============================] - 1s 9ms/step - loss: 0.4412 - accuracy: 0.8128 - val_loss: 0.3975 - val_accuracy: 0.8313\n",
            "Epoch 26/100\n",
            "96/96 [==============================] - 1s 9ms/step - loss: 0.4391 - accuracy: 0.8094 - val_loss: 0.3970 - val_accuracy: 0.8299\n",
            "Epoch 27/100\n",
            "96/96 [==============================] - 1s 10ms/step - loss: 0.4383 - accuracy: 0.8082 - val_loss: 0.3966 - val_accuracy: 0.8299\n",
            "Epoch 28/100\n",
            "96/96 [==============================] - 1s 8ms/step - loss: 0.4384 - accuracy: 0.8108 - val_loss: 0.3962 - val_accuracy: 0.8319\n",
            "Epoch 29/100\n",
            "96/96 [==============================] - 1s 8ms/step - loss: 0.4421 - accuracy: 0.8080 - val_loss: 0.3959 - val_accuracy: 0.8306\n",
            "Epoch 30/100\n",
            "96/96 [==============================] - 1s 8ms/step - loss: 0.4345 - accuracy: 0.8125 - val_loss: 0.3954 - val_accuracy: 0.8313\n",
            "Epoch 31/100\n",
            "96/96 [==============================] - 1s 8ms/step - loss: 0.4330 - accuracy: 0.8112 - val_loss: 0.3950 - val_accuracy: 0.8319\n",
            "Epoch 32/100\n",
            "96/96 [==============================] - 1s 8ms/step - loss: 0.4359 - accuracy: 0.8074 - val_loss: 0.3946 - val_accuracy: 0.8319\n",
            "Epoch 33/100\n",
            "96/96 [==============================] - 1s 8ms/step - loss: 0.4322 - accuracy: 0.8126 - val_loss: 0.3942 - val_accuracy: 0.8319\n",
            "Epoch 34/100\n",
            "96/96 [==============================] - 1s 8ms/step - loss: 0.4323 - accuracy: 0.8110 - val_loss: 0.3938 - val_accuracy: 0.8326\n",
            "Epoch 35/100\n",
            "96/96 [==============================] - 1s 8ms/step - loss: 0.4349 - accuracy: 0.8117 - val_loss: 0.3935 - val_accuracy: 0.8326\n",
            "Epoch 36/100\n",
            "96/96 [==============================] - 1s 8ms/step - loss: 0.4317 - accuracy: 0.8122 - val_loss: 0.3931 - val_accuracy: 0.8332\n",
            "Epoch 37/100\n",
            "96/96 [==============================] - 1s 9ms/step - loss: 0.4321 - accuracy: 0.8140 - val_loss: 0.3928 - val_accuracy: 0.8332\n",
            "Epoch 38/100\n",
            "96/96 [==============================] - 1s 8ms/step - loss: 0.4371 - accuracy: 0.8153 - val_loss: 0.3925 - val_accuracy: 0.8332\n",
            "Epoch 39/100\n",
            "96/96 [==============================] - 1s 8ms/step - loss: 0.4356 - accuracy: 0.8130 - val_loss: 0.3921 - val_accuracy: 0.8332\n",
            "Epoch 40/100\n",
            "96/96 [==============================] - 1s 8ms/step - loss: 0.4312 - accuracy: 0.8149 - val_loss: 0.3918 - val_accuracy: 0.8332\n",
            "Epoch 41/100\n",
            "96/96 [==============================] - 1s 8ms/step - loss: 0.4319 - accuracy: 0.8131 - val_loss: 0.3915 - val_accuracy: 0.8332\n",
            "Epoch 42/100\n",
            "96/96 [==============================] - 1s 8ms/step - loss: 0.4327 - accuracy: 0.8144 - val_loss: 0.3912 - val_accuracy: 0.8345\n",
            "Epoch 43/100\n",
            "96/96 [==============================] - 1s 8ms/step - loss: 0.4296 - accuracy: 0.8161 - val_loss: 0.3909 - val_accuracy: 0.8345\n",
            "Epoch 44/100\n",
            "96/96 [==============================] - 1s 8ms/step - loss: 0.4340 - accuracy: 0.8097 - val_loss: 0.3907 - val_accuracy: 0.8352\n",
            "Epoch 45/100\n",
            "96/96 [==============================] - 1s 7ms/step - loss: 0.4335 - accuracy: 0.8097 - val_loss: 0.3904 - val_accuracy: 0.8352\n",
            "Epoch 46/100\n",
            "96/96 [==============================] - 1s 8ms/step - loss: 0.4301 - accuracy: 0.8123 - val_loss: 0.3901 - val_accuracy: 0.8359\n",
            "Epoch 47/100\n",
            "96/96 [==============================] - 1s 8ms/step - loss: 0.4321 - accuracy: 0.8095 - val_loss: 0.3898 - val_accuracy: 0.8359\n",
            "Epoch 48/100\n",
            "96/96 [==============================] - 1s 8ms/step - loss: 0.4284 - accuracy: 0.8138 - val_loss: 0.3895 - val_accuracy: 0.8359\n",
            "Epoch 49/100\n",
            "96/96 [==============================] - 1s 8ms/step - loss: 0.4322 - accuracy: 0.8115 - val_loss: 0.3893 - val_accuracy: 0.8352\n",
            "Epoch 50/100\n",
            "96/96 [==============================] - 1s 8ms/step - loss: 0.4262 - accuracy: 0.8144 - val_loss: 0.3889 - val_accuracy: 0.8352\n",
            "Epoch 51/100\n",
            "96/96 [==============================] - 1s 8ms/step - loss: 0.4296 - accuracy: 0.8102 - val_loss: 0.3886 - val_accuracy: 0.8352\n",
            "Epoch 52/100\n",
            "96/96 [==============================] - 1s 8ms/step - loss: 0.4294 - accuracy: 0.8112 - val_loss: 0.3884 - val_accuracy: 0.8352\n",
            "Epoch 53/100\n",
            "96/96 [==============================] - 1s 9ms/step - loss: 0.4314 - accuracy: 0.8082 - val_loss: 0.3882 - val_accuracy: 0.8352\n",
            "Epoch 54/100\n",
            "96/96 [==============================] - 1s 8ms/step - loss: 0.4273 - accuracy: 0.8115 - val_loss: 0.3880 - val_accuracy: 0.8352\n",
            "Epoch 55/100\n",
            "96/96 [==============================] - 1s 8ms/step - loss: 0.4277 - accuracy: 0.8140 - val_loss: 0.3877 - val_accuracy: 0.8352\n",
            "Epoch 56/100\n",
            "96/96 [==============================] - 1s 10ms/step - loss: 0.4318 - accuracy: 0.8135 - val_loss: 0.3875 - val_accuracy: 0.8365\n",
            "Epoch 57/100\n",
            "96/96 [==============================] - 1s 9ms/step - loss: 0.4258 - accuracy: 0.8153 - val_loss: 0.3872 - val_accuracy: 0.8365\n",
            "Epoch 58/100\n",
            "96/96 [==============================] - 1s 8ms/step - loss: 0.4285 - accuracy: 0.8174 - val_loss: 0.3870 - val_accuracy: 0.8365\n",
            "Epoch 59/100\n",
            "96/96 [==============================] - 1s 8ms/step - loss: 0.4253 - accuracy: 0.8149 - val_loss: 0.3868 - val_accuracy: 0.8372\n",
            "Epoch 60/100\n",
            "96/96 [==============================] - 1s 8ms/step - loss: 0.4269 - accuracy: 0.8107 - val_loss: 0.3866 - val_accuracy: 0.8372\n",
            "Epoch 61/100\n",
            "96/96 [==============================] - 1s 8ms/step - loss: 0.4255 - accuracy: 0.8136 - val_loss: 0.3863 - val_accuracy: 0.8372\n",
            "Epoch 62/100\n",
            "96/96 [==============================] - 1s 8ms/step - loss: 0.4250 - accuracy: 0.8153 - val_loss: 0.3861 - val_accuracy: 0.8365\n",
            "Epoch 63/100\n",
            "96/96 [==============================] - 1s 8ms/step - loss: 0.4276 - accuracy: 0.8149 - val_loss: 0.3859 - val_accuracy: 0.8365\n",
            "Epoch 64/100\n",
            "96/96 [==============================] - 1s 8ms/step - loss: 0.4248 - accuracy: 0.8130 - val_loss: 0.3858 - val_accuracy: 0.8359\n",
            "Epoch 65/100\n",
            "96/96 [==============================] - 1s 8ms/step - loss: 0.4279 - accuracy: 0.8148 - val_loss: 0.3856 - val_accuracy: 0.8359\n",
            "Epoch 66/100\n",
            "96/96 [==============================] - 1s 10ms/step - loss: 0.4238 - accuracy: 0.8161 - val_loss: 0.3854 - val_accuracy: 0.8359\n",
            "Epoch 67/100\n",
            "96/96 [==============================] - 1s 8ms/step - loss: 0.4284 - accuracy: 0.8100 - val_loss: 0.3852 - val_accuracy: 0.8359\n",
            "Epoch 68/100\n",
            "96/96 [==============================] - 1s 8ms/step - loss: 0.4243 - accuracy: 0.8163 - val_loss: 0.3851 - val_accuracy: 0.8359\n",
            "Epoch 69/100\n",
            "96/96 [==============================] - 1s 8ms/step - loss: 0.4257 - accuracy: 0.8166 - val_loss: 0.3849 - val_accuracy: 0.8352\n",
            "Epoch 70/100\n",
            "96/96 [==============================] - 1s 8ms/step - loss: 0.4243 - accuracy: 0.8126 - val_loss: 0.3847 - val_accuracy: 0.8359\n",
            "Epoch 71/100\n",
            "96/96 [==============================] - 1s 8ms/step - loss: 0.4230 - accuracy: 0.8166 - val_loss: 0.3845 - val_accuracy: 0.8359\n",
            "Epoch 72/100\n",
            "96/96 [==============================] - 1s 8ms/step - loss: 0.4212 - accuracy: 0.8161 - val_loss: 0.3843 - val_accuracy: 0.8359\n",
            "Epoch 73/100\n",
            "96/96 [==============================] - 1s 8ms/step - loss: 0.4218 - accuracy: 0.8138 - val_loss: 0.3841 - val_accuracy: 0.8359\n",
            "Epoch 74/100\n",
            "96/96 [==============================] - 1s 8ms/step - loss: 0.4255 - accuracy: 0.8141 - val_loss: 0.3840 - val_accuracy: 0.8359\n",
            "Epoch 75/100\n",
            "96/96 [==============================] - 1s 8ms/step - loss: 0.4207 - accuracy: 0.8167 - val_loss: 0.3838 - val_accuracy: 0.8359\n",
            "Epoch 76/100\n",
            "96/96 [==============================] - 1s 8ms/step - loss: 0.4239 - accuracy: 0.8153 - val_loss: 0.3836 - val_accuracy: 0.8359\n",
            "Epoch 77/100\n",
            "96/96 [==============================] - 1s 8ms/step - loss: 0.4255 - accuracy: 0.8179 - val_loss: 0.3834 - val_accuracy: 0.8352\n",
            "Epoch 78/100\n",
            "96/96 [==============================] - 1s 9ms/step - loss: 0.4254 - accuracy: 0.8149 - val_loss: 0.3833 - val_accuracy: 0.8352\n",
            "Epoch 79/100\n",
            "96/96 [==============================] - 1s 8ms/step - loss: 0.4215 - accuracy: 0.8176 - val_loss: 0.3831 - val_accuracy: 0.8352\n",
            "Epoch 80/100\n",
            "96/96 [==============================] - 1s 8ms/step - loss: 0.4226 - accuracy: 0.8131 - val_loss: 0.3830 - val_accuracy: 0.8352\n",
            "Epoch 81/100\n",
            "96/96 [==============================] - 1s 8ms/step - loss: 0.4260 - accuracy: 0.8148 - val_loss: 0.3828 - val_accuracy: 0.8345\n",
            "Epoch 82/100\n",
            "96/96 [==============================] - 1s 9ms/step - loss: 0.4228 - accuracy: 0.8128 - val_loss: 0.3827 - val_accuracy: 0.8345\n",
            "Epoch 83/100\n",
            "96/96 [==============================] - 1s 8ms/step - loss: 0.4213 - accuracy: 0.8194 - val_loss: 0.3826 - val_accuracy: 0.8352\n",
            "Epoch 84/100\n",
            "96/96 [==============================] - 1s 8ms/step - loss: 0.4230 - accuracy: 0.8156 - val_loss: 0.3825 - val_accuracy: 0.8352\n",
            "Epoch 85/100\n",
            "96/96 [==============================] - 1s 8ms/step - loss: 0.4256 - accuracy: 0.8174 - val_loss: 0.3823 - val_accuracy: 0.8359\n",
            "Epoch 86/100\n",
            "96/96 [==============================] - 1s 8ms/step - loss: 0.4210 - accuracy: 0.8171 - val_loss: 0.3822 - val_accuracy: 0.8359\n",
            "Epoch 87/100\n",
            "96/96 [==============================] - 1s 8ms/step - loss: 0.4195 - accuracy: 0.8153 - val_loss: 0.3821 - val_accuracy: 0.8359\n",
            "Epoch 88/100\n",
            "96/96 [==============================] - 1s 8ms/step - loss: 0.4204 - accuracy: 0.8197 - val_loss: 0.3819 - val_accuracy: 0.8359\n",
            "Epoch 89/100\n",
            "96/96 [==============================] - 1s 8ms/step - loss: 0.4232 - accuracy: 0.8146 - val_loss: 0.3818 - val_accuracy: 0.8359\n",
            "Epoch 90/100\n",
            "96/96 [==============================] - 1s 8ms/step - loss: 0.4238 - accuracy: 0.8146 - val_loss: 0.3816 - val_accuracy: 0.8365\n",
            "Epoch 91/100\n",
            "96/96 [==============================] - 1s 8ms/step - loss: 0.4226 - accuracy: 0.8163 - val_loss: 0.3815 - val_accuracy: 0.8372\n",
            "Epoch 92/100\n",
            "96/96 [==============================] - 1s 8ms/step - loss: 0.4233 - accuracy: 0.8140 - val_loss: 0.3814 - val_accuracy: 0.8372\n",
            "Epoch 93/100\n",
            "96/96 [==============================] - 1s 8ms/step - loss: 0.4221 - accuracy: 0.8182 - val_loss: 0.3812 - val_accuracy: 0.8372\n",
            "Epoch 94/100\n",
            "96/96 [==============================] - 1s 9ms/step - loss: 0.4196 - accuracy: 0.8202 - val_loss: 0.3811 - val_accuracy: 0.8372\n",
            "Epoch 95/100\n",
            "96/96 [==============================] - 1s 8ms/step - loss: 0.4211 - accuracy: 0.8153 - val_loss: 0.3810 - val_accuracy: 0.8378\n",
            "Epoch 96/100\n",
            "96/96 [==============================] - 1s 8ms/step - loss: 0.4191 - accuracy: 0.8153 - val_loss: 0.3809 - val_accuracy: 0.8378\n",
            "Epoch 97/100\n",
            "96/96 [==============================] - 1s 8ms/step - loss: 0.4202 - accuracy: 0.8158 - val_loss: 0.3807 - val_accuracy: 0.8378\n",
            "Epoch 98/100\n",
            "96/96 [==============================] - 1s 8ms/step - loss: 0.4189 - accuracy: 0.8164 - val_loss: 0.3807 - val_accuracy: 0.8378\n",
            "Epoch 99/100\n",
            "96/96 [==============================] - 1s 9ms/step - loss: 0.4178 - accuracy: 0.8164 - val_loss: 0.3806 - val_accuracy: 0.8378\n",
            "Epoch 100/100\n",
            "96/96 [==============================] - 1s 9ms/step - loss: 0.4262 - accuracy: 0.8118 - val_loss: 0.3804 - val_accuracy: 0.8378\n",
            "Training time finished.\n",
            "100 epochs in 0:01:18.793438\n"
          ],
          "name": "stdout"
        }
      ]
    },
    {
      "cell_type": "code",
      "metadata": {
        "id": "8mz_hBPCSh83",
        "colab_type": "code",
        "colab": {}
      },
      "source": [
        "y_pred = model.predict(X_test_embed)"
      ],
      "execution_count": 0,
      "outputs": []
    },
    {
      "cell_type": "code",
      "metadata": {
        "id": "siWvEjbCSsIZ",
        "colab_type": "code",
        "colab": {}
      },
      "source": [
        "for i in range(0,len(y_pred)):\n",
        "  if y_pred[i]>=0.5:\n",
        "    y_pred[i] = 1\n",
        "  else:\n",
        "    y_pred[i] = 0"
      ],
      "execution_count": 0,
      "outputs": []
    },
    {
      "cell_type": "code",
      "metadata": {
        "id": "HdUFSSEzS0dQ",
        "colab_type": "code",
        "colab": {}
      },
      "source": [
        "from sklearn.metrics import confusion_matrix as cm"
      ],
      "execution_count": 0,
      "outputs": []
    },
    {
      "cell_type": "code",
      "metadata": {
        "id": "7U97mNa0S8Nk",
        "colab_type": "code",
        "colab": {
          "base_uri": "https://localhost:8080/",
          "height": 52
        },
        "outputId": "6fce4774-c63c-4e7e-9ccf-3b2e10269ff3"
      },
      "source": [
        "cm(y_pred,y_test)"
      ],
      "execution_count": 77,
      "outputs": [
        {
          "output_type": "execute_result",
          "data": {
            "text/plain": [
              "array([[698, 147],\n",
              "       [188, 490]])"
            ]
          },
          "metadata": {
            "tags": []
          },
          "execution_count": 77
        }
      ]
    },
    {
      "cell_type": "code",
      "metadata": {
        "id": "bKAGCeQUUuIt",
        "colab_type": "code",
        "colab": {}
      },
      "source": [
        "np.savetxt(fname=\"y_pred.csv\", delimiter=\",\", X=y_pred)"
      ],
      "execution_count": 0,
      "outputs": []
    }
  ]
}